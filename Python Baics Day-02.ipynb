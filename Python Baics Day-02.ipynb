{
 "cells": [
  {
   "cell_type": "markdown",
   "id": "b72c048a-f3f1-4990-b1fc-01c070f41532",
   "metadata": {},
   "source": [
    "# List"
   ]
  },
  {
   "cell_type": "markdown",
   "id": "c9fbde33-df93-446b-a823-7438661fb9a1",
   "metadata": {},
   "source": [
    "In Python, a list is a mutable, ordered collection of items. Mutable means that you can change the contents of the list after it has been created. Ordered means that each item in the list has a specific index, which determines its position in the list. Lists can contain elements of different data types, including numbers, strings, and even other lists. Lists are created using square brackets [ ] and items are separated by commas."
   ]
  },
  {
   "cell_type": "code",
   "execution_count": 2,
   "id": "3b742978-7ba0-46d8-a70b-b1f27ccdd58c",
   "metadata": {},
   "outputs": [],
   "source": [
    "l = [1,2,3,4,5,6,7,8,9,10]"
   ]
  },
  {
   "cell_type": "code",
   "execution_count": 3,
   "id": "a22dc047-3cd5-4e22-a21e-0c7112f8e67d",
   "metadata": {},
   "outputs": [
    {
     "data": {
      "text/plain": [
       "list"
      ]
     },
     "execution_count": 3,
     "metadata": {},
     "output_type": "execute_result"
    }
   ],
   "source": [
    "type(l)"
   ]
  },
  {
   "cell_type": "markdown",
   "id": "c3a58a85-60fc-4e8c-9e9a-d3a0d3586146",
   "metadata": {},
   "source": [
    "### Slicing"
   ]
  },
  {
   "cell_type": "markdown",
   "id": "80fbab98-2cee-4170-a2a4-3a3d4dc95a64",
   "metadata": {},
   "source": [
    "Slicing in Python lists allows you to extract a portion of the list, creating a new list containing those elements. The syntax for slicing is list[start:stop:step],\n",
    "where:\n",
    "\n",
    "\"start\": The index where the slicing begins (inclusive). If omitted, slicing starts from the beginning of the list.\n",
    "\n",
    "\"stop\": The index where the slicing ends (exclusive). If omitted, slicing goes until the end of the list.\n",
    "\n",
    "\"step\": The step size, indicating how many elements to skip. If omitted, the default step size is 1."
   ]
  },
  {
   "cell_type": "code",
   "execution_count": 4,
   "id": "0d02007c-6a01-41e2-ac2d-10ec6ef69d80",
   "metadata": {},
   "outputs": [
    {
     "data": {
      "text/plain": [
       "[3, 4, 5]"
      ]
     },
     "execution_count": 4,
     "metadata": {},
     "output_type": "execute_result"
    }
   ],
   "source": [
    "l[2:5] #Get elements from index 2 to index 5 (excluding 5)"
   ]
  },
  {
   "cell_type": "code",
   "execution_count": 5,
   "id": "006de675-ac23-485b-adee-fd6f5e62b4a4",
   "metadata": {},
   "outputs": [
    {
     "data": {
      "text/plain": [
       "[1, 2, 3, 4]"
      ]
     },
     "execution_count": 5,
     "metadata": {},
     "output_type": "execute_result"
    }
   ],
   "source": [
    "l[:4] #Get elements from index 0 to index 4 (excluding 4)"
   ]
  },
  {
   "cell_type": "code",
   "execution_count": 6,
   "id": "deb3f75c-76b6-495c-b99e-2f1dd8d3c3dc",
   "metadata": {},
   "outputs": [
    {
     "data": {
      "text/plain": [
       "[7, 8, 9, 10]"
      ]
     },
     "execution_count": 6,
     "metadata": {},
     "output_type": "execute_result"
    }
   ],
   "source": [
    "l[6:] #Get elements from index 6 to the end"
   ]
  },
  {
   "cell_type": "code",
   "execution_count": 7,
   "id": "a6267506-c6ef-48f2-bdc6-46e5dbb3971e",
   "metadata": {},
   "outputs": [
    {
     "data": {
      "text/plain": [
       "[1, 3, 5, 7, 9]"
      ]
     },
     "execution_count": 7,
     "metadata": {},
     "output_type": "execute_result"
    }
   ],
   "source": [
    "l[::2] #start point : end point: jump size\n",
    "       # get every second element"
   ]
  },
  {
   "cell_type": "code",
   "execution_count": 8,
   "id": "7e56f048-7b63-4c18-9177-6d3d681da71b",
   "metadata": {},
   "outputs": [
    {
     "data": {
      "text/plain": [
       "[10, 9, 8, 7, 6, 5, 4, 3, 2, 1]"
      ]
     },
     "execution_count": 8,
     "metadata": {},
     "output_type": "execute_result"
    }
   ],
   "source": [
    "l[::-1] #Reverse the list"
   ]
  },
  {
   "cell_type": "code",
   "execution_count": 13,
   "id": "37fa2576-9420-4994-b394-5707710424f1",
   "metadata": {},
   "outputs": [
    {
     "data": {
      "text/plain": [
       "[10, 8, 6]"
      ]
     },
     "execution_count": 13,
     "metadata": {},
     "output_type": "execute_result"
    }
   ],
   "source": [
    "l[-1:-7:-2] #Get the elements from the last element up to the seventh element, in reverse order.\n",
    "            #where last element is inclusive and seventh element is exclusive"
   ]
  },
  {
   "cell_type": "markdown",
   "id": "0d7cb024-fd42-4c59-80bd-0971cc5cc1f4",
   "metadata": {},
   "source": [
    "# Common Methods in List"
   ]
  },
  {
   "cell_type": "code",
   "execution_count": 56,
   "id": "5fc3d139-d8ca-4f64-880e-dfeee5a47a49",
   "metadata": {},
   "outputs": [],
   "source": [
    "k = [10,20,30,40,50]"
   ]
  },
  {
   "cell_type": "markdown",
   "id": "9b81ba4e-1d06-47d4-853a-68cb7a74896c",
   "metadata": {},
   "source": [
    "#### Appending element: \n",
    "The \"append()\" method adds a single element to the end of the list."
   ]
  },
  {
   "cell_type": "code",
   "execution_count": 57,
   "id": "08271903-f2a8-4a12-9b6a-914e999739d5",
   "metadata": {},
   "outputs": [
    {
     "data": {
      "text/plain": [
       "[10, 20, 30, 40, 50, 60]"
      ]
     },
     "execution_count": 57,
     "metadata": {},
     "output_type": "execute_result"
    }
   ],
   "source": [
    "k.append(60)\n",
    "k"
   ]
  },
  {
   "cell_type": "code",
   "execution_count": 58,
   "id": "6c47ee4c-ba74-44ff-a480-4ed661d4f9e8",
   "metadata": {},
   "outputs": [
    {
     "data": {
      "text/plain": [
       "[10, 20, 30, 40, 50, 60, [100, 200]]"
      ]
     },
     "execution_count": 58,
     "metadata": {},
     "output_type": "execute_result"
    }
   ],
   "source": [
    "k.append([100,200])\n",
    "k"
   ]
  },
  {
   "cell_type": "markdown",
   "id": "3f1d58bf-65f4-41a9-8348-5fc6c51b6e9f",
   "metadata": {},
   "source": [
    "#### Extending Lists: \n",
    "\n",
    "The \"extend()\" method adds elements from another list to the end of the current list."
   ]
  },
  {
   "cell_type": "code",
   "execution_count": 59,
   "id": "dae4f995-0420-4539-9fed-a50c81269c56",
   "metadata": {},
   "outputs": [
    {
     "data": {
      "text/plain": [
       "[10, 20, 30, 40, 50, 60, [100, 200], 70, 80]"
      ]
     },
     "execution_count": 59,
     "metadata": {},
     "output_type": "execute_result"
    }
   ],
   "source": [
    "k.extend([70,80])\n",
    "k"
   ]
  },
  {
   "cell_type": "code",
   "execution_count": 60,
   "id": "86b02988-1bbd-4100-a500-85b1b84f0bbb",
   "metadata": {},
   "outputs": [
    {
     "data": {
      "text/plain": [
       "3"
      ]
     },
     "execution_count": 60,
     "metadata": {},
     "output_type": "execute_result"
    }
   ],
   "source": [
    "l[l[1]]"
   ]
  },
  {
   "cell_type": "markdown",
   "id": "ff738955-3497-4694-9c25-54e9af5a2750",
   "metadata": {},
   "source": [
    "#### Inserting Elements:\n",
    "\n",
    "The insert() method inserts an element at a specified index in the list.\n"
   ]
  },
  {
   "cell_type": "code",
   "execution_count": 62,
   "id": "80495723-1be1-49a2-ad6e-3182e5223a91",
   "metadata": {},
   "outputs": [
    {
     "data": {
      "text/plain": [
       "[10, 20, 15, 30, 40, 50, 60, [100, 200], 70, 80]"
      ]
     },
     "execution_count": 62,
     "metadata": {},
     "output_type": "execute_result"
    }
   ],
   "source": [
    "k.insert(2,15) # insert element 15 at second index\n",
    "k"
   ]
  },
  {
   "cell_type": "markdown",
   "id": "a6e0c9c1-e96d-49eb-b6c8-629503dad24c",
   "metadata": {},
   "source": [
    "#### Removing Elements:\n",
    "\n",
    "The remove() method removes the first occurrence of a specified value from the list.\n",
    "The pop() method removes and returns the element at a specified index. If no index is specified, it removes and returns the last element in the list."
   ]
  },
  {
   "cell_type": "code",
   "execution_count": 63,
   "id": "eea01280-ee25-49ed-ba1b-c87017e10828",
   "metadata": {},
   "outputs": [
    {
     "data": {
      "text/plain": [
       "[10, 20, 30, 40, 50, 60, [100, 200], 70, 80]"
      ]
     },
     "execution_count": 63,
     "metadata": {},
     "output_type": "execute_result"
    }
   ],
   "source": [
    "k.remove(15) #removing element 15\n",
    "k"
   ]
  },
  {
   "cell_type": "code",
   "execution_count": 64,
   "id": "d3032e51-87c9-43ff-8c7f-211113ec531f",
   "metadata": {},
   "outputs": [
    {
     "data": {
      "text/plain": [
       "40"
      ]
     },
     "execution_count": 64,
     "metadata": {},
     "output_type": "execute_result"
    }
   ],
   "source": [
    "k.pop(3)"
   ]
  },
  {
   "cell_type": "markdown",
   "id": "4304214b-1949-416a-8910-ee503481c572",
   "metadata": {},
   "source": [
    "#### Counting Occurrences:\n",
    "\n",
    "The count() method returns the number of occurrences of a specified value in the list."
   ]
  },
  {
   "cell_type": "code",
   "execution_count": 65,
   "id": "038b252d-257a-4b91-8ce6-823e11078625",
   "metadata": {},
   "outputs": [
    {
     "data": {
      "text/plain": [
       "1"
      ]
     },
     "execution_count": 65,
     "metadata": {},
     "output_type": "execute_result"
    }
   ],
   "source": [
    "k.count(20)"
   ]
  },
  {
   "cell_type": "markdown",
   "id": "dab38bb1-8671-44b8-8469-5e94a26d506d",
   "metadata": {},
   "source": [
    "#### Finding Index of an Element:\n",
    "\n",
    "The index() method returns the index of the first occurrence of a specified value in the list."
   ]
  },
  {
   "cell_type": "code",
   "execution_count": 69,
   "id": "958e8874-dd2a-40a0-a9be-bf0ea2bfcb51",
   "metadata": {},
   "outputs": [
    {
     "data": {
      "text/plain": [
       "0"
      ]
     },
     "execution_count": 69,
     "metadata": {},
     "output_type": "execute_result"
    }
   ],
   "source": [
    "k.index(10)\n"
   ]
  },
  {
   "cell_type": "markdown",
   "id": "d6539e18-dee3-49f6-8b81-40489ccff951",
   "metadata": {},
   "source": [
    "#### Reversing Elements:\n",
    "\n",
    "The reverse() method reverses the order of the elements in the list."
   ]
  },
  {
   "cell_type": "code",
   "execution_count": 79,
   "id": "a6fcc952-4067-4d03-818f-2cce3130f034",
   "metadata": {},
   "outputs": [
    {
     "data": {
      "text/plain": [
       "[80, 70, [100, 200], 60, 50, 30, 20, 10]"
      ]
     },
     "execution_count": 79,
     "metadata": {},
     "output_type": "execute_result"
    }
   ],
   "source": [
    "k.reverse()\n",
    "k"
   ]
  },
  {
   "cell_type": "markdown",
   "id": "ba32a856-fb17-4f6e-84a5-c693bf751a23",
   "metadata": {},
   "source": [
    "#### Copying Lists:\n",
    "\n",
    "You can create a shallow copy of a list using the copy() method or by slicing the list (list[:]). This creates a new list with the same elements as the original list."
   ]
  },
  {
   "cell_type": "code",
   "execution_count": 85,
   "id": "4ff02fb4-873c-4e74-ac4f-c295c3f5827a",
   "metadata": {},
   "outputs": [
    {
     "data": {
      "text/plain": [
       "[80, 70, [100, 200], 60, 50, 30, 20, 10]"
      ]
     },
     "execution_count": 85,
     "metadata": {},
     "output_type": "execute_result"
    }
   ],
   "source": [
    "k_copy = k.copy()\n",
    "k_copy"
   ]
  },
  {
   "cell_type": "markdown",
   "id": "e3835480-8ad1-4d46-86ac-4d7d9492a6d6",
   "metadata": {},
   "source": [
    "#### Sorting a list:\n",
    "Sort a list in ascending order"
   ]
  },
  {
   "cell_type": "code",
   "execution_count": 83,
   "id": "e1a6a0a2-73ed-4b98-a841-15a3e52cc0c0",
   "metadata": {},
   "outputs": [
    {
     "data": {
      "text/plain": [
       "[1, 2, 3, 4, 5, 6]"
      ]
     },
     "execution_count": 83,
     "metadata": {},
     "output_type": "execute_result"
    }
   ],
   "source": [
    "j = [4,3,5,2,6,1]\n",
    "j.sort()\n",
    "j"
   ]
  },
  {
   "cell_type": "markdown",
   "id": "389f72ba-7eb3-4fdd-8295-5a213373240f",
   "metadata": {},
   "source": [
    "#### Clearing a List:\n",
    "\n",
    "The clear() method removes all elements from the list, leaving it empty."
   ]
  },
  {
   "cell_type": "code",
   "execution_count": 84,
   "id": "1009babb-2603-4515-9eed-db2bb4e11836",
   "metadata": {},
   "outputs": [
    {
     "data": {
      "text/plain": [
       "[]"
      ]
     },
     "execution_count": 84,
     "metadata": {},
     "output_type": "execute_result"
    }
   ],
   "source": [
    "j.clear()\n",
    "j"
   ]
  },
  {
   "cell_type": "markdown",
   "id": "1ca6f51d-b9d9-4338-bd89-682b2cdf719a",
   "metadata": {},
   "source": [
    "#### Finding element in nested list"
   ]
  },
  {
   "cell_type": "code",
   "execution_count": null,
   "id": "e8fbcf62-622d-4463-8e26-8809d71bcc67",
   "metadata": {},
   "outputs": [],
   "source": [
    "l = [10,20,30,[100,200,300],40,50]"
   ]
  },
  {
   "cell_type": "code",
   "execution_count": null,
   "id": "4b41045b-45eb-442e-9d82-c56087863bd9",
   "metadata": {},
   "outputs": [],
   "source": [
    "l[3][1]"
   ]
  }
 ],
 "metadata": {
  "kernelspec": {
   "display_name": "Python 3 (ipykernel)",
   "language": "python",
   "name": "python3"
  },
  "language_info": {
   "codemirror_mode": {
    "name": "ipython",
    "version": 3
   },
   "file_extension": ".py",
   "mimetype": "text/x-python",
   "name": "python",
   "nbconvert_exporter": "python",
   "pygments_lexer": "ipython3",
   "version": "3.11.7"
  }
 },
 "nbformat": 4,
 "nbformat_minor": 5
}
