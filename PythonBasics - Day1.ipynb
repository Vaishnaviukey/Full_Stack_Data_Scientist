{
 "cells": [
  {
   "cell_type": "markdown",
   "id": "c5109309-19d2-4e6b-973c-6fa50adf8fdf",
   "metadata": {},
   "source": [
    "# Data Types"
   ]
  },
  {
   "cell_type": "raw",
   "id": "81a7ec14-0443-45fc-875a-543b459cc4b2",
   "metadata": {},
   "source": [
    "In programming, data types are classifications that specify what kind of data can be stored and manipulated within a program. "
   ]
  },
  {
   "cell_type": "markdown",
   "id": "73febc3d-6c6c-4837-86d9-250df65a5db8",
   "metadata": {},
   "source": [
    "## Integer:"
   ]
  },
  {
   "cell_type": "raw",
   "id": "6db36d49-cb31-46dd-a101-6219e81e339f",
   "metadata": {},
   "source": [
    "Used to store whole numbers without decimal points. e.g: 1,0,98,865"
   ]
  },
  {
   "cell_type": "code",
   "execution_count": 2,
   "id": "fe21c5c0-8cec-4df2-9007-96e0f28541ef",
   "metadata": {},
   "outputs": [
    {
     "data": {
      "text/plain": [
       "int"
      ]
     },
     "execution_count": 2,
     "metadata": {},
     "output_type": "execute_result"
    }
   ],
   "source": [
    "type(1)"
   ]
  },
  {
   "cell_type": "markdown",
   "id": "f03f3bff-637d-4658-a0f0-2efa5d0a5f5f",
   "metadata": {},
   "source": [
    "## Float:"
   ]
  },
  {
   "cell_type": "raw",
   "id": "f18ea1b7-b7cf-4caf-b7c9-5b0d6733ff6e",
   "metadata": {},
   "source": [
    "Used to store numbers with decimal points. e.g: 1.1, 5.3, 99.99"
   ]
  },
  {
   "cell_type": "code",
   "execution_count": 5,
   "id": "e1240ddf-238e-4bfb-ae0c-ea646834646e",
   "metadata": {},
   "outputs": [
    {
     "data": {
      "text/plain": [
       "float"
      ]
     },
     "execution_count": 5,
     "metadata": {},
     "output_type": "execute_result"
    }
   ],
   "source": [
    "type(99.99)"
   ]
  },
  {
   "cell_type": "markdown",
   "id": "0314569e-469a-4c01-8542-9ca89ef58d42",
   "metadata": {},
   "source": [
    "## Complex"
   ]
  },
  {
   "cell_type": "raw",
   "id": "29cbdab7-b324-4282-8ce0-48aa799efb6d",
   "metadata": {},
   "source": [
    "complex data type represents complex numbers, which are numbers with both real and imaginary parts. In mathematics, a complex number is expressed as\n",
    "a + bi, where a is the real part, b is the imaginary part, and i is the imaginary unit, which is the square root of -1."
   ]
  },
  {
   "cell_type": "code",
   "execution_count": 4,
   "id": "c07f4fa6-02ad-40c1-aaca-1789f6b77602",
   "metadata": {},
   "outputs": [
    {
     "data": {
      "text/plain": [
       "complex"
      ]
     },
     "execution_count": 4,
     "metadata": {},
     "output_type": "execute_result"
    }
   ],
   "source": [
    "type(4+5j)"
   ]
  },
  {
   "cell_type": "markdown",
   "id": "9765148a-1264-4e01-95a3-ca36ad1054ee",
   "metadata": {},
   "source": [
    "## String"
   ]
  },
  {
   "cell_type": "raw",
   "id": "1477f80d-f302-47cf-99a6-4516f8235891",
   "metadata": {},
   "source": [
    "Used to store sequences of characters, such as text. e.g: School , Robort , Vaish123"
   ]
  },
  {
   "cell_type": "code",
   "execution_count": 7,
   "id": "35ac1df8-836e-4753-ad75-834b8dec14d9",
   "metadata": {},
   "outputs": [
    {
     "data": {
      "text/plain": [
       "str"
      ]
     },
     "execution_count": 7,
     "metadata": {},
     "output_type": "execute_result"
    }
   ],
   "source": [
    "type(\"hello World!\")"
   ]
  },
  {
   "cell_type": "markdown",
   "id": "d1e99eb5-1633-4532-9e47-50718117b14c",
   "metadata": {},
   "source": [
    "## Boolean"
   ]
  },
  {
   "cell_type": "raw",
   "id": "98a58d82-6387-4afc-9a95-358349fa7c92",
   "metadata": {},
   "source": [
    "Used to store true or false values. e.g: Trur , False"
   ]
  },
  {
   "cell_type": "code",
   "execution_count": 8,
   "id": "efdb0f4c-86a0-411f-b31d-938304b2934c",
   "metadata": {},
   "outputs": [
    {
     "data": {
      "text/plain": [
       "bool"
      ]
     },
     "execution_count": 8,
     "metadata": {},
     "output_type": "execute_result"
    }
   ],
   "source": [
    "type(True)"
   ]
  },
  {
   "cell_type": "code",
   "execution_count": 11,
   "id": "2f61c937-2962-487f-aebb-6db43bcc8c24",
   "metadata": {},
   "outputs": [
    {
     "data": {
      "text/plain": [
       "bool"
      ]
     },
     "execution_count": 11,
     "metadata": {},
     "output_type": "execute_result"
    }
   ],
   "source": [
    "type(False)"
   ]
  }
 ],
 "metadata": {
  "kernelspec": {
   "display_name": "Python 3 (ipykernel)",
   "language": "python",
   "name": "python3"
  },
  "language_info": {
   "codemirror_mode": {
    "name": "ipython",
    "version": 3
   },
   "file_extension": ".py",
   "mimetype": "text/x-python",
   "name": "python",
   "nbconvert_exporter": "python",
   "pygments_lexer": "ipython3",
   "version": "3.11.7"
  }
 },
 "nbformat": 4,
 "nbformat_minor": 5
}
