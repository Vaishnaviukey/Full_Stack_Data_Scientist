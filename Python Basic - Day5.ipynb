{
 "cells": [
  {
   "cell_type": "markdown",
   "id": "36f27fb6-3cb9-42fb-b547-964034de994b",
   "metadata": {},
   "source": [
    "# Break"
   ]
  },
  {
   "cell_type": "code",
   "execution_count": 6,
   "id": "16ce94df-1115-407f-a4f8-025b3e70f71f",
   "metadata": {},
   "outputs": [],
   "source": [
    "l = [1,2,3,4,5] #terminate the loop or statement in which it is present. "
   ]
  },
  {
   "cell_type": "code",
   "execution_count": 5,
   "id": "13e4f312-5100-4ad7-82eb-e61e86b1cf73",
   "metadata": {},
   "outputs": [
    {
     "name": "stdout",
     "output_type": "stream",
     "text": [
      "1\n",
      "2\n"
     ]
    }
   ],
   "source": [
    "for i in l :\n",
    "    if i == 3:\n",
    "        break\n",
    "    print(i)"
   ]
  },
  {
   "cell_type": "code",
   "execution_count": 13,
   "id": "5068a907-5eb1-475d-b96a-e724dd8ecc5f",
   "metadata": {},
   "outputs": [
    {
     "name": "stdout",
     "output_type": "stream",
     "text": [
      "1\n",
      "2\n"
     ]
    }
   ],
   "source": [
    "for i in l :\n",
    "    if i == 3:\n",
    "        break\n",
    "    print(i)"
   ]
  },
  {
   "cell_type": "markdown",
   "id": "9fff29a6-6644-44ba-be39-8e63c159e4ec",
   "metadata": {},
   "source": [
    "# Continue"
   ]
  },
  {
   "cell_type": "code",
   "execution_count": 10,
   "id": "686780f5-9443-4126-b77f-b9d99d96c146",
   "metadata": {},
   "outputs": [
    {
     "name": "stdout",
     "output_type": "stream",
     "text": [
      "1\n",
      "2\n",
      "4\n",
      "5\n"
     ]
    }
   ],
   "source": [
    "for i in l :\n",
    "    if i == 3:\n",
    "        continue\n",
    "    print(i)              #skips the current iteration and starts the next one."
   ]
  },
  {
   "cell_type": "code",
   "execution_count": 18,
   "id": "dce21876-53d4-4e84-816a-5bb2c390669e",
   "metadata": {},
   "outputs": [
    {
     "name": "stdout",
     "output_type": "stream",
     "text": [
      "D\n",
      "t\n",
      "S\n",
      "c\n",
      "i\n",
      "e\n",
      "n\n",
      "c\n",
      "e\n"
     ]
    }
   ],
   "source": [
    "for i in \"DataScience\" :\n",
    "    if i == \"a\":\n",
    "        continue\n",
    "    else:\n",
    "        print(i)\n",
    "\n"
   ]
  },
  {
   "cell_type": "markdown",
   "id": "6bd633d2-21f0-4ba5-829d-d1ab3fc7b8f5",
   "metadata": {},
   "source": [
    "# pass"
   ]
  },
  {
   "cell_type": "code",
   "execution_count": 17,
   "id": "a3f2ca48-5547-43e8-a1b3-0d1f6f4aa823",
   "metadata": {},
   "outputs": [
    {
     "name": "stdout",
     "output_type": "stream",
     "text": [
      "1\n",
      "2\n",
      "3\n",
      "5\n"
     ]
    }
   ],
   "source": [
    "for i in l:\n",
    "    if i == 4:\n",
    "        pass\n",
    "    else:\n",
    "        print(i)               #Python pass keyword acts as a no-operation statement\n"
   ]
  },
  {
   "cell_type": "markdown",
   "id": "3e4cd3e5-e76a-4e66-b6e2-f53b54bd9ef7",
   "metadata": {},
   "source": [
    "# Built-In Function"
   ]
  },
  {
   "cell_type": "code",
   "execution_count": 20,
   "id": "283c1464-a5c2-4260-ad25-496a3ac69dea",
   "metadata": {},
   "outputs": [
    {
     "data": {
      "text/plain": [
       "\u001b[1;31mInit signature:\u001b[0m \u001b[0mtype\u001b[0m\u001b[1;33m(\u001b[0m\u001b[0mself\u001b[0m\u001b[1;33m,\u001b[0m \u001b[1;33m/\u001b[0m\u001b[1;33m,\u001b[0m \u001b[1;33m*\u001b[0m\u001b[0margs\u001b[0m\u001b[1;33m,\u001b[0m \u001b[1;33m**\u001b[0m\u001b[0mkwargs\u001b[0m\u001b[1;33m)\u001b[0m\u001b[1;33m\u001b[0m\u001b[1;33m\u001b[0m\u001b[0m\n",
       "\u001b[1;31mDocstring:\u001b[0m     \n",
       "type(object) -> the object's type\n",
       "type(name, bases, dict, **kwds) -> a new type\n",
       "\u001b[1;31mType:\u001b[0m           type\n",
       "\u001b[1;31mSubclasses:\u001b[0m     ABCMeta, EnumType, _AnyMeta, NamedTupleMeta, _TypedDictMeta, _DeprecatedType, _ABC, MetaHasDescriptors, PyCStructType, UnionType, ..."
      ]
     },
     "metadata": {},
     "output_type": "display_data"
    }
   ],
   "source": [
    "type?\n"
   ]
  },
  {
   "cell_type": "code",
   "execution_count": 22,
   "id": "b068e265-0944-4dff-840d-6574749542b7",
   "metadata": {},
   "outputs": [
    {
     "data": {
      "text/plain": [
       "\u001b[1;31mSignature:\u001b[0m \u001b[0mlen\u001b[0m\u001b[1;33m(\u001b[0m\u001b[0mobj\u001b[0m\u001b[1;33m,\u001b[0m \u001b[1;33m/\u001b[0m\u001b[1;33m)\u001b[0m\u001b[1;33m\u001b[0m\u001b[1;33m\u001b[0m\u001b[0m\n",
       "\u001b[1;31mDocstring:\u001b[0m Return the number of items in a container.\n",
       "\u001b[1;31mType:\u001b[0m      builtin_function_or_method"
      ]
     },
     "metadata": {},
     "output_type": "display_data"
    }
   ],
   "source": [
    "len?"
   ]
  },
  {
   "cell_type": "raw",
   "id": "5bcf1af8-5c24-44c2-8338-82a8d97c9de9",
   "metadata": {},
   "source": [
    "print?"
   ]
  },
  {
   "cell_type": "code",
   "execution_count": 23,
   "id": "e7d2e887-496b-4674-84aa-9488470aa3d5",
   "metadata": {},
   "outputs": [
    {
     "data": {
      "text/plain": [
       "\u001b[1;31mInit signature:\u001b[0m \u001b[0mrange\u001b[0m\u001b[1;33m(\u001b[0m\u001b[0mself\u001b[0m\u001b[1;33m,\u001b[0m \u001b[1;33m/\u001b[0m\u001b[1;33m,\u001b[0m \u001b[1;33m*\u001b[0m\u001b[0margs\u001b[0m\u001b[1;33m,\u001b[0m \u001b[1;33m**\u001b[0m\u001b[0mkwargs\u001b[0m\u001b[1;33m)\u001b[0m\u001b[1;33m\u001b[0m\u001b[1;33m\u001b[0m\u001b[0m\n",
       "\u001b[1;31mDocstring:\u001b[0m     \n",
       "range(stop) -> range object\n",
       "range(start, stop[, step]) -> range object\n",
       "\n",
       "Return an object that produces a sequence of integers from start (inclusive)\n",
       "to stop (exclusive) by step.  range(i, j) produces i, i+1, i+2, ..., j-1.\n",
       "start defaults to 0, and stop is omitted!  range(4) produces 0, 1, 2, 3.\n",
       "These are exactly the valid indices for a list of 4 elements.\n",
       "When step is given, it specifies the increment (or decrement).\n",
       "\u001b[1;31mType:\u001b[0m           type\n",
       "\u001b[1;31mSubclasses:\u001b[0m     "
      ]
     },
     "metadata": {},
     "output_type": "display_data"
    }
   ],
   "source": [
    "range?"
   ]
  },
  {
   "cell_type": "code",
   "execution_count": 1,
   "id": "70708596-2604-40a7-be88-13eab62e0ecc",
   "metadata": {},
   "outputs": [],
   "source": [
    "l = [1,2,3,4]"
   ]
  },
  {
   "cell_type": "code",
   "execution_count": 2,
   "id": "41e62f4f-297b-4a35-a6c1-d517dbd3bd17",
   "metadata": {},
   "outputs": [
    {
     "data": {
      "text/plain": [
       "\u001b[1;31mSignature:\u001b[0m \u001b[0ml\u001b[0m\u001b[1;33m.\u001b[0m\u001b[0mappend\u001b[0m\u001b[1;33m(\u001b[0m\u001b[0mobject\u001b[0m\u001b[1;33m,\u001b[0m \u001b[1;33m/\u001b[0m\u001b[1;33m)\u001b[0m\u001b[1;33m\u001b[0m\u001b[1;33m\u001b[0m\u001b[0m\n",
       "\u001b[1;31mDocstring:\u001b[0m Append object to the end of the list.\n",
       "\u001b[1;31mType:\u001b[0m      builtin_function_or_method"
      ]
     },
     "metadata": {},
     "output_type": "display_data"
    }
   ],
   "source": [
    "l.append?"
   ]
  },
  {
   "cell_type": "code",
   "execution_count": 3,
   "id": "9c8e173b-5b78-4ad9-9aac-60e786db3afe",
   "metadata": {},
   "outputs": [
    {
     "data": {
      "text/plain": [
       "\u001b[1;31mSignature:\u001b[0m \u001b[0ml\u001b[0m\u001b[1;33m.\u001b[0m\u001b[0mextend\u001b[0m\u001b[1;33m(\u001b[0m\u001b[0miterable\u001b[0m\u001b[1;33m,\u001b[0m \u001b[1;33m/\u001b[0m\u001b[1;33m)\u001b[0m\u001b[1;33m\u001b[0m\u001b[1;33m\u001b[0m\u001b[0m\n",
       "\u001b[1;31mDocstring:\u001b[0m Extend list by appending elements from the iterable.\n",
       "\u001b[1;31mType:\u001b[0m      builtin_function_or_method"
      ]
     },
     "metadata": {},
     "output_type": "display_data"
    }
   ],
   "source": [
    "l.extend?"
   ]
  },
  {
   "cell_type": "code",
   "execution_count": 4,
   "id": "45627598-7b68-42e2-adc4-91d093b771ab",
   "metadata": {},
   "outputs": [],
   "source": [
    "def test(a):\n",
    "    \"\"\" Test will write argument as it is \"\"\"\n",
    "    print(a)\n"
   ]
  },
  {
   "cell_type": "code",
   "execution_count": 5,
   "id": "abaf86a4-d6f6-475c-8760-a9f876b62add",
   "metadata": {},
   "outputs": [
    {
     "name": "stdout",
     "output_type": "stream",
     "text": [
      "9\n"
     ]
    }
   ],
   "source": [
    "test(9)"
   ]
  },
  {
   "cell_type": "code",
   "execution_count": 6,
   "id": "a2ad59aa-d2f8-4832-9f3b-6ae49219d1df",
   "metadata": {},
   "outputs": [
    {
     "data": {
      "text/plain": [
       "\u001b[1;31mSignature:\u001b[0m \u001b[0mtest\u001b[0m\u001b[1;33m(\u001b[0m\u001b[0ma\u001b[0m\u001b[1;33m)\u001b[0m\u001b[1;33m\u001b[0m\u001b[1;33m\u001b[0m\u001b[0m\n",
       "\u001b[1;31mDocstring:\u001b[0m Test will write argument as it is \n",
       "\u001b[1;31mFile:\u001b[0m      c:\\users\\vaishnavi\\appdata\\local\\temp\\ipykernel_2292\\1133242568.py\n",
       "\u001b[1;31mType:\u001b[0m      function"
      ]
     },
     "metadata": {},
     "output_type": "display_data"
    }
   ],
   "source": [
    "test?"
   ]
  },
  {
   "cell_type": "code",
   "execution_count": 7,
   "id": "5416aeec-3657-4783-b2f8-35ff1829ab38",
   "metadata": {},
   "outputs": [],
   "source": [
    "def test2(a):\n",
    "    return a    # return data is actual available"
   ]
  },
  {
   "cell_type": "code",
   "execution_count": 8,
   "id": "767c30be-6f14-4bf9-bd81-246f028f70b7",
   "metadata": {},
   "outputs": [
    {
     "data": {
      "text/plain": [
       "100"
      ]
     },
     "execution_count": 8,
     "metadata": {},
     "output_type": "execute_result"
    }
   ],
   "source": [
    "test2(100)"
   ]
  },
  {
   "cell_type": "code",
   "execution_count": 9,
   "id": "100cd9c8-33af-49c2-92a3-3f9e1c2d10df",
   "metadata": {},
   "outputs": [
    {
     "name": "stdout",
     "output_type": "stream",
     "text": [
      "2\n"
     ]
    }
   ],
   "source": [
    "test(2)"
   ]
  },
  {
   "cell_type": "code",
   "execution_count": 10,
   "id": "bd433839-ecf9-46b7-8325-e03883515417",
   "metadata": {},
   "outputs": [
    {
     "name": "stdout",
     "output_type": "stream",
     "text": [
      "1\n"
     ]
    },
    {
     "data": {
      "text/plain": [
       "NoneType"
      ]
     },
     "execution_count": 10,
     "metadata": {},
     "output_type": "execute_result"
    }
   ],
   "source": [
    "type(test(1))"
   ]
  },
  {
   "cell_type": "code",
   "execution_count": 11,
   "id": "0de886e7-d958-482a-9174-74b3bc337881",
   "metadata": {},
   "outputs": [
    {
     "data": {
      "text/plain": [
       "int"
      ]
     },
     "execution_count": 11,
     "metadata": {},
     "output_type": "execute_result"
    }
   ],
   "source": [
    "type(test2(1))"
   ]
  },
  {
   "cell_type": "code",
   "execution_count": 13,
   "id": "a83dfc32-2cad-4b75-a992-875a166bb600",
   "metadata": {},
   "outputs": [],
   "source": [
    "def test3(a):\n",
    "    return a + 10"
   ]
  },
  {
   "cell_type": "code",
   "execution_count": 14,
   "id": "2a445a5f-4bfa-484d-bb74-5e96648c1fe2",
   "metadata": {},
   "outputs": [
    {
     "data": {
      "text/plain": [
       "15"
      ]
     },
     "execution_count": 14,
     "metadata": {},
     "output_type": "execute_result"
    }
   ],
   "source": [
    "test3(5)"
   ]
  },
  {
   "cell_type": "code",
   "execution_count": 15,
   "id": "46c8f587-27ad-4aa1-a23b-d40a627bc81a",
   "metadata": {},
   "outputs": [],
   "source": [
    "def test4(a,b):\n",
    "    return a + b"
   ]
  },
  {
   "cell_type": "code",
   "execution_count": 16,
   "id": "c19e2e11-913d-4d74-aa67-15127ef9396f",
   "metadata": {},
   "outputs": [
    {
     "data": {
      "text/plain": [
       "3"
      ]
     },
     "execution_count": 16,
     "metadata": {},
     "output_type": "execute_result"
    }
   ],
   "source": [
    "test4(1,2)"
   ]
  },
  {
   "cell_type": "code",
   "execution_count": 17,
   "id": "3bec80cb-2ed2-4bbe-b533-81e0ec343daf",
   "metadata": {},
   "outputs": [],
   "source": [
    "def test5(a,b):\n",
    "    return a / b"
   ]
  },
  {
   "cell_type": "code",
   "execution_count": 18,
   "id": "a72c89a7-6007-496a-a00e-df33220535fa",
   "metadata": {},
   "outputs": [
    {
     "data": {
      "text/plain": [
       "2.0"
      ]
     },
     "execution_count": 18,
     "metadata": {},
     "output_type": "execute_result"
    }
   ],
   "source": [
    "test5(10,5)"
   ]
  },
  {
   "cell_type": "code",
   "execution_count": 22,
   "id": "3780ce8d-6f60-42c0-8841-93ed506f5845",
   "metadata": {},
   "outputs": [],
   "source": [
    "def test6(*args): #can pass n no. of arguments\n",
    "    return args"
   ]
  },
  {
   "cell_type": "code",
   "execution_count": 23,
   "id": "66b26b97-4abf-46d8-abc7-53018f997883",
   "metadata": {},
   "outputs": [
    {
     "data": {
      "text/plain": [
       "(1, 2, 3, 4, 5, 6, 'Data', 7)"
      ]
     },
     "execution_count": 23,
     "metadata": {},
     "output_type": "execute_result"
    }
   ],
   "source": [
    "test6(1,2,3,4,5,6,\"Data\",7)"
   ]
  },
  {
   "cell_type": "code",
   "execution_count": 24,
   "id": "72177f01-4121-4c4d-aa0f-8017dbb9af7b",
   "metadata": {},
   "outputs": [],
   "source": [
    "def test7(a,b,*args):\n",
    "    return a, b, args"
   ]
  },
  {
   "cell_type": "code",
   "execution_count": 26,
   "id": "c9774a2c-7c65-4613-b4ee-694b4f649af7",
   "metadata": {},
   "outputs": [
    {
     "data": {
      "text/plain": [
       "(10, 20, (1, 2, 3, 4, 5))"
      ]
     },
     "execution_count": 26,
     "metadata": {},
     "output_type": "execute_result"
    }
   ],
   "source": [
    "test7(10,20,1,2,3,4,5)"
   ]
  },
  {
   "cell_type": "code",
   "execution_count": 28,
   "id": "8ee171f2-1556-4d46-b81e-7f7acfa27f45",
   "metadata": {},
   "outputs": [],
   "source": [
    "def test8(*args):\n",
    "    l = []\n",
    "    for i in args:\n",
    "        if type(i) == int:\n",
    "            l.append(i)\n",
    "    return(l)"
   ]
  },
  {
   "cell_type": "code",
   "execution_count": 29,
   "id": "a4401d2e-d90d-413d-b3d1-4a934cf57abe",
   "metadata": {},
   "outputs": [
    {
     "data": {
      "text/plain": [
       "[1]"
      ]
     },
     "execution_count": 29,
     "metadata": {},
     "output_type": "execute_result"
    }
   ],
   "source": [
    "test8(\"data\",1)"
   ]
  },
  {
   "cell_type": "code",
   "execution_count": 38,
   "id": "16636dca-0f8a-4680-a6b3-9ef814feafe1",
   "metadata": {},
   "outputs": [
    {
     "data": {
      "text/plain": [
       "6"
      ]
     },
     "execution_count": 38,
     "metadata": {},
     "output_type": "execute_result"
    }
   ],
   "source": [
    "a = 6 #globally define\n",
    "a"
   ]
  },
  {
   "cell_type": "code",
   "execution_count": 31,
   "id": "c63b8117-fb47-4c08-88ea-477728d955d9",
   "metadata": {},
   "outputs": [],
   "source": [
    "def test8(*args):\n",
    "    z = []               #local variable\n",
    "    for i in args:\n",
    "        if type(i) == int:\n",
    "            l.append(i)\n",
    "    return(z)"
   ]
  },
  {
   "cell_type": "markdown",
   "id": "91bee7f0-1cf0-4937-baa8-fff194924720",
   "metadata": {},
   "source": [
    "### function for fetching list type of data"
   ]
  },
  {
   "cell_type": "code",
   "execution_count": 66,
   "id": "0ce08fa0-000f-44d6-a12e-9b6e17923a7a",
   "metadata": {},
   "outputs": [],
   "source": [
    "def fetch_list_type(l):\n",
    "    for i in l:\n",
    "        if (type(i)) == list:\n",
    "            print(i)"
   ]
  },
  {
   "cell_type": "code",
   "execution_count": 67,
   "id": "69a74061-01a9-465e-8420-fda6980eedcb",
   "metadata": {},
   "outputs": [
    {
     "name": "stdout",
     "output_type": "stream",
     "text": [
      "['Data', 1, 2, 3, 4]\n"
     ]
    }
   ],
   "source": [
    "k = [(10,11,12),[\"Data\",1,2,3,4],{1,2,3},{\"a\":100 , \"b\":200}]\n",
    "fetch_list_type(k)"
   ]
  },
  {
   "cell_type": "markdown",
   "id": "9c4b4996-72d8-46e7-9235-4f7cd0174e53",
   "metadata": {},
   "source": [
    "### function square of argument"
   ]
  },
  {
   "cell_type": "code",
   "execution_count": 40,
   "id": "24702f7d-bdb8-4185-97d4-94ae4242fe31",
   "metadata": {},
   "outputs": [],
   "source": [
    "def suquareOfArgument(a):\n",
    "    return a**2"
   ]
  },
  {
   "cell_type": "code",
   "execution_count": 42,
   "id": "4a81c423-2dfb-40e8-b8f1-e0d9f6a24d18",
   "metadata": {},
   "outputs": [
    {
     "data": {
      "text/plain": [
       "4"
      ]
     },
     "execution_count": 42,
     "metadata": {},
     "output_type": "execute_result"
    }
   ],
   "source": [
    "suquareOfArgument(2)"
   ]
  },
  {
   "cell_type": "code",
   "execution_count": null,
   "id": "ba99f260-61ed-4979-8142-b86c42e1a9d1",
   "metadata": {},
   "outputs": [],
   "source": []
  }
 ],
 "metadata": {
  "kernelspec": {
   "display_name": "Python 3 (ipykernel)",
   "language": "python",
   "name": "python3"
  },
  "language_info": {
   "codemirror_mode": {
    "name": "ipython",
    "version": 3
   },
   "file_extension": ".py",
   "mimetype": "text/x-python",
   "name": "python",
   "nbconvert_exporter": "python",
   "pygments_lexer": "ipython3",
   "version": "3.11.7"
  }
 },
 "nbformat": 4,
 "nbformat_minor": 5
}
