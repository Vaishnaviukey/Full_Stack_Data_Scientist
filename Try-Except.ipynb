{
 "cells": [
  {
   "cell_type": "markdown",
   "id": "e7c4e32b-8f06-41c4-a50f-14b322c8dd92",
   "metadata": {},
   "source": [
    "# exception Handeling"
   ]
  },
  {
   "cell_type": "markdown",
   "id": "0321eda3-368a-4b75-95ca-972954a1a2b8",
   "metadata": {},
   "source": [
    "### Try and except"
   ]
  },
  {
   "cell_type": "code",
   "execution_count": 6,
   "id": "83483369-20a3-47f1-8b74-69fb49a2619e",
   "metadata": {},
   "outputs": [],
   "source": [
    "a = 5"
   ]
  },
  {
   "cell_type": "code",
   "execution_count": 7,
   "id": "5afb71d4-2dfe-4112-ab9b-58d58bc987c7",
   "metadata": {},
   "outputs": [
    {
     "data": {
      "text/plain": [
       "int"
      ]
     },
     "execution_count": 7,
     "metadata": {},
     "output_type": "execute_result"
    }
   ],
   "source": [
    "type(a)"
   ]
  },
  {
   "cell_type": "code",
   "execution_count": 8,
   "id": "ad285249-9a15-42fb-bf37-1e40761858bf",
   "metadata": {},
   "outputs": [
    {
     "data": {
      "text/plain": [
       "25"
      ]
     },
     "execution_count": 8,
     "metadata": {},
     "output_type": "execute_result"
    }
   ],
   "source": [
    "a * 5"
   ]
  },
  {
   "cell_type": "code",
   "execution_count": 95,
   "id": "b74a55df-9b8f-4aae-ae39-bab17ea9eefc",
   "metadata": {},
   "outputs": [
    {
     "ename": "NameError",
     "evalue": "name 'a' is not defined",
     "output_type": "error",
     "traceback": [
      "\u001b[1;31m---------------------------------------------------------------------------\u001b[0m",
      "\u001b[1;31mNameError\u001b[0m                                 Traceback (most recent call last)",
      "Cell \u001b[1;32mIn[95], line 1\u001b[0m\n\u001b[1;32m----> 1\u001b[0m a \u001b[38;5;241m+\u001b[39m \u001b[38;5;124m\"\u001b[39m\u001b[38;5;124mA\u001b[39m\u001b[38;5;124m\"\u001b[39m\n",
      "\u001b[1;31mNameError\u001b[0m: name 'a' is not defined"
     ]
    }
   ],
   "source": [
    "a + \"A\""
   ]
  },
  {
   "cell_type": "code",
   "execution_count": 10,
   "id": "cf76dd64-1262-43aa-8321-8745a82b35e7",
   "metadata": {},
   "outputs": [
    {
     "name": "stdin",
     "output_type": "stream",
     "text": [
      "Enter int number a\n"
     ]
    },
    {
     "ename": "ValueError",
     "evalue": "invalid literal for int() with base 10: 'a'",
     "output_type": "error",
     "traceback": [
      "\u001b[1;31m---------------------------------------------------------------------------\u001b[0m",
      "\u001b[1;31mValueError\u001b[0m                                Traceback (most recent call last)",
      "Cell \u001b[1;32mIn[10], line 1\u001b[0m\n\u001b[1;32m----> 1\u001b[0m a \u001b[38;5;241m=\u001b[39m \u001b[38;5;28mint\u001b[39m(\u001b[38;5;28minput\u001b[39m(\u001b[38;5;124m\"\u001b[39m\u001b[38;5;124mEnter int number\u001b[39m\u001b[38;5;124m\"\u001b[39m))\n",
      "\u001b[1;31mValueError\u001b[0m: invalid literal for int() with base 10: 'a'"
     ]
    }
   ],
   "source": [
    "a = int(input(\"Enter int number\"))"
   ]
  },
  {
   "cell_type": "code",
   "execution_count": 12,
   "id": "946bff3f-5370-4774-8628-bc7bfd8be5d9",
   "metadata": {},
   "outputs": [
    {
     "name": "stdin",
     "output_type": "stream",
     "text": [
      "Enter int type data only vaishnavi\n"
     ]
    },
    {
     "name": "stdout",
     "output_type": "stream",
     "text": [
      "Enter only number\n"
     ]
    }
   ],
   "source": [
    "try:\n",
    "    a = int(input(\"Enter int type data only\"))\n",
    "    print(a + 10)\n",
    "except: \n",
    "    print(\"Enter only number\")"
   ]
  },
  {
   "cell_type": "code",
   "execution_count": 13,
   "id": "7e27fca7-a591-4acc-8520-3594b7693e1f",
   "metadata": {},
   "outputs": [
    {
     "ename": "ZeroDivisionError",
     "evalue": "division by zero",
     "output_type": "error",
     "traceback": [
      "\u001b[1;31m---------------------------------------------------------------------------\u001b[0m",
      "\u001b[1;31mZeroDivisionError\u001b[0m                         Traceback (most recent call last)",
      "Cell \u001b[1;32mIn[13], line 1\u001b[0m\n\u001b[1;32m----> 1\u001b[0m \u001b[38;5;241m5\u001b[39m\u001b[38;5;241m/\u001b[39m\u001b[38;5;241m0\u001b[39m\n",
      "\u001b[1;31mZeroDivisionError\u001b[0m: division by zero"
     ]
    }
   ],
   "source": [
    "5/0"
   ]
  },
  {
   "cell_type": "code",
   "execution_count": 23,
   "id": "55699072-c833-4c3c-a39d-cc0b4200450d",
   "metadata": {},
   "outputs": [
    {
     "name": "stdin",
     "output_type": "stream",
     "text": [
      "enter 1st no. 4\n",
      "enter 2nd no. 0\n"
     ]
    },
    {
     "name": "stdout",
     "output_type": "stream",
     "text": [
      "Error in input data type of division erroe\n"
     ]
    }
   ],
   "source": [
    "try:\n",
    "    a = int(input(\"enter 1st no.\"))\n",
    "    b = int(input(\"enter 2nd no.\"))\n",
    "    print(a/b)\n",
    "except:\n",
    "    print(\"Error in input data type of division erroe\")"
   ]
  },
  {
   "cell_type": "code",
   "execution_count": 25,
   "id": "0a61cb9e-eddb-4c4e-a343-ffe1c8b39dc1",
   "metadata": {},
   "outputs": [
    {
     "name": "stdin",
     "output_type": "stream",
     "text": [
      "enter 1st no. lklk\n"
     ]
    },
    {
     "name": "stdout",
     "output_type": "stream",
     "text": [
      "invalid literal for int() with base 10: 'lklk'\n"
     ]
    }
   ],
   "source": [
    "try:\n",
    "    a = int(input(\"enter 1st no.\"))\n",
    "    b = int(input(\"enter 2nd no.\"))\n",
    "    print(a/b)\n",
    "except Exception as e:\n",
    "    print(e)"
   ]
  },
  {
   "cell_type": "code",
   "execution_count": 26,
   "id": "db9e77d0-881c-4a7f-b728-fc9222981c75",
   "metadata": {},
   "outputs": [
    {
     "name": "stdin",
     "output_type": "stream",
     "text": [
      "enter 1st no. 5\n",
      "enter 2nd no. 0\n"
     ]
    },
    {
     "name": "stdout",
     "output_type": "stream",
     "text": [
      "Error:  division by zero\n"
     ]
    }
   ],
   "source": [
    "try:\n",
    "    a = int(input(\"enter 1st no.\"))\n",
    "    b = int(input(\"enter 2nd no.\"))\n",
    "    print(a/b)\n",
    "except ZeroDivisionError as e :\n",
    "    print(\"Error: \",e)"
   ]
  },
  {
   "cell_type": "code",
   "execution_count": 27,
   "id": "065a57bc-255f-4b9d-9aeb-52cbd8682a0d",
   "metadata": {},
   "outputs": [
    {
     "name": "stdin",
     "output_type": "stream",
     "text": [
      "enter 1st no. hjhj\n"
     ]
    },
    {
     "name": "stdout",
     "output_type": "stream",
     "text": [
      "invalid literal for int() with base 10: 'hjhj'\n"
     ]
    }
   ],
   "source": [
    "try:\n",
    "    a = int(input(\"enter 1st no.\"))\n",
    "    b = int(input(\"enter 2nd no.\"))\n",
    "    print(a/b)\n",
    "except ZeroDivisionError as e :\n",
    "    print(\"Error: \",e)\n",
    "except Exception as e :\n",
    "    print(e)"
   ]
  },
  {
   "cell_type": "code",
   "execution_count": 29,
   "id": "d38dfc38-ac46-4edb-90bc-a8ab49d5d342",
   "metadata": {},
   "outputs": [
    {
     "name": "stdin",
     "output_type": "stream",
     "text": [
      "Enter number 10\n"
     ]
    },
    {
     "name": "stdout",
     "output_type": "stream",
     "text": [
      "5.0\n",
      "No exception is occured\n"
     ]
    }
   ],
   "source": [
    "try:\n",
    "    x = int(input(\"Enter number\"))\n",
    "    print(x/2)\n",
    "except Exception as e:\n",
    "    print(e)\n",
    "else:\n",
    "    print(\"No exception is occured\")"
   ]
  },
  {
   "cell_type": "code",
   "execution_count": 31,
   "id": "83517c23-b35f-43f2-905c-1fe38e33ab4a",
   "metadata": {},
   "outputs": [
    {
     "name": "stdin",
     "output_type": "stream",
     "text": [
      "Enter number k\n"
     ]
    },
    {
     "name": "stdout",
     "output_type": "stream",
     "text": [
      "invalid literal for int() with base 10: 'k'\n",
      "##########\n"
     ]
    }
   ],
   "source": [
    "try:\n",
    "    x = int(input(\"Enter number\"))\n",
    "    print(x/2)\n",
    "except Exception as e:\n",
    "    print(e)\n",
    "else:\n",
    "    print(\"No exception is occured\")\n",
    "finally :\n",
    "    print(\"#\" * 10)"
   ]
  },
  {
   "cell_type": "code",
   "execution_count": 41,
   "id": "21115b3c-1237-409b-8aba-064c94c07e9b",
   "metadata": {},
   "outputs": [
    {
     "ename": "TypeError",
     "evalue": "'builtin_function_or_method' object is not subscriptable",
     "output_type": "error",
     "traceback": [
      "\u001b[1;31m---------------------------------------------------------------------------\u001b[0m",
      "\u001b[1;31mTypeError\u001b[0m                                 Traceback (most recent call last)",
      "Cell \u001b[1;32mIn[41], line 1\u001b[0m\n\u001b[1;32m----> 1\u001b[0m \u001b[38;5;28mprint\u001b[39m(\u001b[38;5;28mdir\u001b[39m[\u001b[38;5;28mlocals\u001b[39m()[\u001b[38;5;124m\"\u001b[39m\u001b[38;5;124m__builtins__\u001b[39m\u001b[38;5;124m\"\u001b[39m]])\n",
      "\u001b[1;31mTypeError\u001b[0m: 'builtin_function_or_method' object is not subscriptable"
     ]
    }
   ],
   "source": [
    "print(dir[locals()[\"__builtins__\"]])"
   ]
  },
  {
   "cell_type": "markdown",
   "id": "b912688e-8b2c-4681-9e68-e372a0d66a91",
   "metadata": {},
   "source": [
    "### Assignment on try - catch"
   ]
  },
  {
   "cell_type": "markdown",
   "id": "30928ae9-a442-49b8-aec2-dcf8026d94ed",
   "metadata": {},
   "source": [
    "\"Function 1 -------------------------------------: \""
   ]
  },
  {
   "cell_type": "code",
   "execution_count": 97,
   "id": "dd7409cb-a410-4c46-87f3-0253a93cf01b",
   "metadata": {},
   "outputs": [],
   "source": [
    "def suquareOfArgument():\n",
    "    try:\n",
    "        a = int(input())\n",
    "        return a**2\n",
    "    except Exception as e:\n",
    "        print(\"Error: \", e)\n",
    "    finally:\n",
    "        print(\"Execution is done!\")"
   ]
  },
  {
   "cell_type": "code",
   "execution_count": 99,
   "id": "3c5ecdca-0711-4b0f-832b-81d28ba90043",
   "metadata": {},
   "outputs": [
    {
     "name": "stdin",
     "output_type": "stream",
     "text": [
      " 5\n"
     ]
    },
    {
     "name": "stdout",
     "output_type": "stream",
     "text": [
      "Execution is done!\n"
     ]
    },
    {
     "data": {
      "text/plain": [
       "25"
      ]
     },
     "execution_count": 99,
     "metadata": {},
     "output_type": "execute_result"
    }
   ],
   "source": [
    "suquareOfArgument()"
   ]
  },
  {
   "cell_type": "code",
   "execution_count": 177,
   "id": "290885d9-b2f7-4c70-8835-2321b19c9f88",
   "metadata": {},
   "outputs": [
    {
     "name": "stdin",
     "output_type": "stream",
     "text": [
      " jjkj\n"
     ]
    },
    {
     "name": "stdout",
     "output_type": "stream",
     "text": [
      "Error:  invalid literal for int() with base 10: 'jjkj'\n",
      "Execution is done!\n"
     ]
    }
   ],
   "source": [
    "suquareOfArgument()"
   ]
  },
  {
   "cell_type": "markdown",
   "id": "e4b7eb19-aacf-48bc-99f9-ab9e28c15e18",
   "metadata": {},
   "source": [
    "\"Function 2 -------------------------------:\""
   ]
  },
  {
   "cell_type": "code",
   "execution_count": 178,
   "id": "008e7abd-fdbb-4c52-8b09-209af248001b",
   "metadata": {},
   "outputs": [],
   "source": [
    "def fetching_list(l):\n",
    "    try:\n",
    "        for i in l:\n",
    "            if (type(i)) == list:\n",
    "                print(i)\n",
    "    except Exception as e:\n",
    "        print(\"error :\",e)\n",
    "    finally:\n",
    "        print(\"Execution is done!\")"
   ]
  },
  {
   "cell_type": "code",
   "execution_count": 179,
   "id": "77b3bd76-ae80-48f4-979a-7fff70c9f4ff",
   "metadata": {},
   "outputs": [
    {
     "name": "stdout",
     "output_type": "stream",
     "text": [
      "Execution is done!\n"
     ]
    }
   ],
   "source": [
    "a = [(1,2),[1,2],3,4,5]\n",
    "fetching_list(a)"
   ]
  },
  {
   "cell_type": "code",
   "execution_count": 180,
   "id": "d93c9f6b-53bb-4489-84c3-b389e5cffd0d",
   "metadata": {},
   "outputs": [
    {
     "name": "stdout",
     "output_type": "stream",
     "text": [
      "Execution is done!\n"
     ]
    }
   ],
   "source": [
    "k = [(10,11,12),[\"Data\",1,2,3,4],{1,2,3},{\"a\":100 , \"b\":200}]\n",
    "fetching_list(k)"
   ]
  },
  {
   "cell_type": "code",
   "execution_count": 181,
   "id": "4d25becc-dafb-45b0-8b0a-0f5c61383b82",
   "metadata": {},
   "outputs": [
    {
     "name": "stdout",
     "output_type": "stream",
     "text": [
      "error : 'int' object is not iterable\n",
      "Execution is done!\n"
     ]
    }
   ],
   "source": [
    "fetching_list(1)"
   ]
  },
  {
   "cell_type": "markdown",
   "id": "dd6d9a58-3541-4697-9416-954b05ab36f5",
   "metadata": {},
   "source": [
    "\"Function 3 --------------------------------\""
   ]
  },
  {
   "cell_type": "code",
   "execution_count": 148,
   "id": "7263ed0b-0861-4f6f-9816-16df48034ff5",
   "metadata": {},
   "outputs": [],
   "source": [
    "def get_list_element(list,index):\n",
    "    try:\n",
    "        element = list[index]\n",
    "    except IndexError:\n",
    "        return \"Error: Index out of range.\"\n",
    "    finally:\n",
    "        print(\"Execution of get_list_element is complete.\")\n",
    "    return element    "
   ]
  },
  {
   "cell_type": "code",
   "execution_count": 151,
   "id": "af1ec2fe-324f-456c-abfe-ede5560af060",
   "metadata": {},
   "outputs": [],
   "source": [
    "list = [1, 2, 3, 4, 5]"
   ]
  },
  {
   "cell_type": "code",
   "execution_count": 152,
   "id": "528b2e22-7076-4577-bf45-00ccc5e43466",
   "metadata": {},
   "outputs": [
    {
     "name": "stdout",
     "output_type": "stream",
     "text": [
      "Execution of get_list_element is complete.\n",
      "3\n"
     ]
    }
   ],
   "source": [
    "print(get_list_element(list, 2)) "
   ]
  },
  {
   "cell_type": "code",
   "execution_count": 153,
   "id": "075e741f-3f76-482f-b04f-7c00241c4662",
   "metadata": {},
   "outputs": [
    {
     "name": "stdout",
     "output_type": "stream",
     "text": [
      "Execution of get_list_element is complete.\n",
      "Error: Index out of range.\n"
     ]
    }
   ],
   "source": [
    " print(get_list_element(list, 10))"
   ]
  },
  {
   "cell_type": "markdown",
   "id": "dccdce44-a373-4a34-bd16-de2763ac1d08",
   "metadata": {},
   "source": [
    "Function 4 : -----------------------------"
   ]
  },
  {
   "cell_type": "code",
   "execution_count": 71,
   "id": "d8ded327-1697-42f9-8228-9fbade7457e8",
   "metadata": {},
   "outputs": [],
   "source": [
    "def iterate_str(n):\n",
    "    try:\n",
    "        for i in n:\n",
    "            print(i,end=\" \")\n",
    "            \n",
    "    except Exception as e:\n",
    "        print(\"\\nError: \",e)\n",
    "        \n",
    "    else:\n",
    "        print(\"\\n\"+ n + \" : can be iterable\")\n",
    "        \n",
    "    finally:\n",
    "        print(\"\\nCode is executed\")\n",
    "    "
   ]
  },
  {
   "cell_type": "code",
   "execution_count": 72,
   "id": "af6583f8-63ba-4add-a5a8-4eb1c9cd866b",
   "metadata": {},
   "outputs": [
    {
     "name": "stdout",
     "output_type": "stream",
     "text": [
      "\n",
      "Error:  'int' object is not iterable\n",
      "\n",
      "Code is executed\n",
      "None\n"
     ]
    }
   ],
   "source": [
    "print(iterate_str(1))"
   ]
  },
  {
   "cell_type": "code",
   "execution_count": 73,
   "id": "c9459b6e-7cd2-487e-bc5f-2a98afba67d7",
   "metadata": {},
   "outputs": [
    {
     "name": "stdout",
     "output_type": "stream",
     "text": [
      "D a t a \n",
      "Data : can be iterable\n",
      "\n",
      "Code is executed\n",
      "None\n"
     ]
    }
   ],
   "source": [
    "print(iterate_str(\"Data\"))"
   ]
  },
  {
   "cell_type": "markdown",
   "id": "86cfcc7d-0005-4e66-867a-5cac715729f6",
   "metadata": {},
   "source": [
    "Function 5 : ---------------------------------------"
   ]
  },
  {
   "cell_type": "code",
   "execution_count": 92,
   "id": "429b75f8-f305-42ba-84b0-2fc72edeacba",
   "metadata": {},
   "outputs": [],
   "source": [
    "def Check_age():\n",
    "    try:\n",
    "        age = int(input(\"enter your age\"))\n",
    "        if age < 18:\n",
    "            print(\"you are Minor\")\n",
    "        elif 50 >= age >= 18 :\n",
    "            print(\"you are Adult\")\n",
    "        else:\n",
    "            print(\"You are Senior Citizen\")\n",
    "    except Exception as e:\n",
    "        print(\"Error: \",e)\n",
    "    finally :\n",
    "        print(\"\\nThis given code is work properly\")"
   ]
  },
  {
   "cell_type": "code",
   "execution_count": 93,
   "id": "237a82cb-e759-4914-9459-ef50796d3ae5",
   "metadata": {},
   "outputs": [
    {
     "name": "stdin",
     "output_type": "stream",
     "text": [
      "enter your age 45\n"
     ]
    },
    {
     "name": "stdout",
     "output_type": "stream",
     "text": [
      "you are Adult\n",
      "\n",
      "This given code is work properly\n"
     ]
    }
   ],
   "source": [
    "Check_age()"
   ]
  },
  {
   "cell_type": "code",
   "execution_count": 94,
   "id": "73e13b36-f1ab-4445-9677-2e9eeb2d50a2",
   "metadata": {},
   "outputs": [
    {
     "name": "stdin",
     "output_type": "stream",
     "text": [
      "enter your age kkk\n"
     ]
    },
    {
     "name": "stdout",
     "output_type": "stream",
     "text": [
      "Error:  invalid literal for int() with base 10: 'kkk'\n",
      "\n",
      "This given code is work properly\n"
     ]
    }
   ],
   "source": [
    "Check_age()"
   ]
  },
  {
   "cell_type": "code",
   "execution_count": null,
   "id": "b3e6a5b9-889c-4a2f-b64e-f31b410e6d4a",
   "metadata": {},
   "outputs": [],
   "source": []
  }
 ],
 "metadata": {
  "kernelspec": {
   "display_name": "Python 3 (ipykernel)",
   "language": "python",
   "name": "python3"
  },
  "language_info": {
   "codemirror_mode": {
    "name": "ipython",
    "version": 3
   },
   "file_extension": ".py",
   "mimetype": "text/x-python",
   "name": "python",
   "nbconvert_exporter": "python",
   "pygments_lexer": "ipython3",
   "version": "3.11.7"
  }
 },
 "nbformat": 4,
 "nbformat_minor": 5
}
