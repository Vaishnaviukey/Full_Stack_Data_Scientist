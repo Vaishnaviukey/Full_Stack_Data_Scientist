{
 "cells": [
  {
   "cell_type": "markdown",
   "id": "3bef8be4-7343-4449-8a08-785373ab3017",
   "metadata": {},
   "source": [
    "# Tuple"
   ]
  },
  {
   "cell_type": "markdown",
   "id": "4c4a41e2-a434-4adb-b12f-5af3ece77aca",
   "metadata": {},
   "source": [
    "Tuples are used to store multiple items in a single variable. It is a collection which is ordered and unchangeable."
   ]
  },
  {
   "cell_type": "code",
   "execution_count": 2,
   "id": "aa37893b-5d8e-4a8e-a0e4-c9abb00f7704",
   "metadata": {},
   "outputs": [
    {
     "data": {
      "text/plain": [
       "(1, 2, 3, 4, 5, 6, 7, 8, 9, 10)"
      ]
     },
     "execution_count": 2,
     "metadata": {},
     "output_type": "execute_result"
    }
   ],
   "source": [
    "a = (1,2,3,4,5,6,7,8,9,10)\n",
    "a"
   ]
  },
  {
   "cell_type": "code",
   "execution_count": 3,
   "id": "9459aeea-9d3b-4121-ad79-60d3d4d0e9b0",
   "metadata": {},
   "outputs": [
    {
     "data": {
      "text/plain": [
       "tuple"
      ]
     },
     "execution_count": 3,
     "metadata": {},
     "output_type": "execute_result"
    }
   ],
   "source": [
    "type(a) #checking type of a"
   ]
  },
  {
   "cell_type": "code",
   "execution_count": 4,
   "id": "d79df71d-af90-480d-82c0-8bac667f24a8",
   "metadata": {},
   "outputs": [
    {
     "data": {
      "text/plain": [
       "1"
      ]
     },
     "execution_count": 4,
     "metadata": {},
     "output_type": "execute_result"
    }
   ],
   "source": [
    "a.count(1) #count the occurence of a"
   ]
  },
  {
   "cell_type": "code",
   "execution_count": 6,
   "id": "6050ab7d-eb8f-4037-bde1-efc7fccc159e",
   "metadata": {},
   "outputs": [
    {
     "data": {
      "text/plain": [
       "0"
      ]
     },
     "execution_count": 6,
     "metadata": {},
     "output_type": "execute_result"
    }
   ],
   "source": [
    "a.index(1) # get the index of a element"
   ]
  },
  {
   "cell_type": "code",
   "execution_count": 24,
   "id": "42a8812b-d844-4fa1-a974-cb723ab5f66f",
   "metadata": {},
   "outputs": [],
   "source": [
    "s = (10,20,True,\"Vaish\",)"
   ]
  },
  {
   "cell_type": "code",
   "execution_count": 26,
   "id": "54e2f957-9440-499f-843b-7a896805d9f9",
   "metadata": {},
   "outputs": [
    {
     "data": {
      "text/plain": [
       "(1, 1, 2, 3, 4, 5, 10, 20, True, 'Vaish')"
      ]
     },
     "execution_count": 26,
     "metadata": {},
     "output_type": "execute_result"
    }
   ],
   "source": [
    "newTuple = a + s  # joining two tuple\n",
    "newTuple"
   ]
  },
  {
   "cell_type": "markdown",
   "id": "58e68e7d-1925-4e33-bbbb-933b288da676",
   "metadata": {},
   "source": [
    "# Dictonary"
   ]
  },
  {
   "cell_type": "markdown",
   "id": "6cff3528-5566-4e23-bd01-8f2a8ce70c3e",
   "metadata": {},
   "source": [
    "A Python dictionary is a data structure that stores the value in key:value pairs"
   ]
  },
  {
   "cell_type": "code",
   "execution_count": 36,
   "id": "f729f823-0e0c-40ce-8ac1-747800f1933c",
   "metadata": {},
   "outputs": [],
   "source": [
    "a = {\"Name\" : \"Vaish\" ,\n",
    "     \"marks\" : 90,\n",
    "     \"branch\" : \"AIML\"}"
   ]
  },
  {
   "cell_type": "code",
   "execution_count": 37,
   "id": "41b3e121-edd9-4f0c-bc61-49cacb451aa8",
   "metadata": {},
   "outputs": [
    {
     "data": {
      "text/plain": [
       "{'Name': 'Vaish', 'marks': '90', 'branch': 'AIML'}"
      ]
     },
     "execution_count": 37,
     "metadata": {},
     "output_type": "execute_result"
    }
   ],
   "source": [
    "a"
   ]
  },
  {
   "cell_type": "code",
   "execution_count": 38,
   "id": "1049189e-8299-48cc-aa86-60c4f5b22437",
   "metadata": {},
   "outputs": [
    {
     "data": {
      "text/plain": [
       "dict_values(['Vaish', '90', 'AIML'])"
      ]
     },
     "execution_count": 38,
     "metadata": {},
     "output_type": "execute_result"
    }
   ],
   "source": [
    "a.values()"
   ]
  },
  {
   "cell_type": "code",
   "execution_count": 39,
   "id": "3abe6367-e2dc-40ec-a8d3-602638286403",
   "metadata": {},
   "outputs": [
    {
     "data": {
      "text/plain": [
       "dict_keys(['Name', 'marks', 'branch'])"
      ]
     },
     "execution_count": 39,
     "metadata": {},
     "output_type": "execute_result"
    }
   ],
   "source": [
    "a.keys()"
   ]
  },
  {
   "cell_type": "code",
   "execution_count": 42,
   "id": "3cb167a0-b0b9-4c0a-9807-1e2e4310f34b",
   "metadata": {},
   "outputs": [
    {
     "data": {
      "text/plain": [
       "{'Name': 'Vaish', 'marks': '90', 'branch': 'AIML', 'sem': 7}"
      ]
     },
     "execution_count": 42,
     "metadata": {},
     "output_type": "execute_result"
    }
   ],
   "source": [
    "a.update({\"sem\" : 7})\n",
    "a"
   ]
  },
  {
   "cell_type": "code",
   "execution_count": 46,
   "id": "de006d7f-1efe-476f-89c1-2ccaf9889466",
   "metadata": {},
   "outputs": [
    {
     "data": {
      "text/plain": [
       "{'Name': 'Vaish', 'marks': 89, 'branch': 'AIML', 'sem': 7, 'Age': 20}"
      ]
     },
     "execution_count": 46,
     "metadata": {},
     "output_type": "execute_result"
    }
   ],
   "source": [
    "a[\"marks\"] = 89\n",
    "a"
   ]
  },
  {
   "cell_type": "markdown",
   "id": "877ad5a0-3240-4582-9762-a7a86f412389",
   "metadata": {},
   "source": [
    "# set"
   ]
  },
  {
   "cell_type": "markdown",
   "id": "74af7635-cc35-47f0-8936-3a36cffd4518",
   "metadata": {},
   "source": [
    "A Set in Python programming is an unordered collection data type that is iterable, mutable and has no duplicate elements. "
   ]
  },
  {
   "cell_type": "code",
   "execution_count": 49,
   "id": "14885919-8eec-45f8-a723-cd99997060db",
   "metadata": {},
   "outputs": [],
   "source": [
    "a = (1,1,2,3,4,5)"
   ]
  },
  {
   "cell_type": "code",
   "execution_count": 50,
   "id": "491831f2-3292-415a-b9c3-b80aead26e65",
   "metadata": {},
   "outputs": [
    {
     "data": {
      "text/plain": [
       "{1, 2, 3, 4, 5}"
      ]
     },
     "execution_count": 50,
     "metadata": {},
     "output_type": "execute_result"
    }
   ],
   "source": [
    "set(a)"
   ]
  },
  {
   "cell_type": "code",
   "execution_count": 51,
   "id": "ff5fcad4-0523-4114-8ae8-85ed1e78c31d",
   "metadata": {},
   "outputs": [
    {
     "data": {
      "text/plain": [
       "(10, 20, 30, 40, 50)"
      ]
     },
     "execution_count": 51,
     "metadata": {},
     "output_type": "execute_result"
    }
   ],
   "source": [
    "b = (10,20,30,40,50)\n",
    "b"
   ]
  },
  {
   "cell_type": "code",
   "execution_count": 52,
   "id": "afae144e-2bc3-41e5-9121-ea313585890a",
   "metadata": {},
   "outputs": [
    {
     "data": {
      "text/plain": [
       "{1, 2, 3, 4, 5, 10, 20, 30, 40, 50}"
      ]
     },
     "execution_count": 52,
     "metadata": {},
     "output_type": "execute_result"
    }
   ],
   "source": [
    "set(a).union(b)"
   ]
  },
  {
   "cell_type": "code",
   "execution_count": 53,
   "id": "3db4d241-30b9-4c45-a56f-e57e76901322",
   "metadata": {},
   "outputs": [
    {
     "data": {
      "text/plain": [
       "{1, 2, 3, 4, 5}"
      ]
     },
     "execution_count": 53,
     "metadata": {},
     "output_type": "execute_result"
    }
   ],
   "source": [
    "set(a).difference(b)"
   ]
  },
  {
   "cell_type": "code",
   "execution_count": 54,
   "id": "bee8dc81-c47a-4775-8d75-9837d5af0226",
   "metadata": {},
   "outputs": [
    {
     "data": {
      "text/plain": [
       "set()"
      ]
     },
     "execution_count": 54,
     "metadata": {},
     "output_type": "execute_result"
    }
   ],
   "source": [
    "set(a).intersection(b)"
   ]
  },
  {
   "cell_type": "code",
   "execution_count": 55,
   "id": "ef7e6102-2d1b-489e-959b-25b1832ae72e",
   "metadata": {},
   "outputs": [],
   "source": [
    "set(a).difference_update(b)"
   ]
  },
  {
   "cell_type": "markdown",
   "id": "b947c923-157f-479c-8fef-6bbb4038edfa",
   "metadata": {},
   "source": [
    "# Condition Statement"
   ]
  },
  {
   "cell_type": "markdown",
   "id": "002dcf2e-7464-46e8-a646-31e3ed3d49ac",
   "metadata": {},
   "source": [
    "### if-elses"
   ]
  },
  {
   "cell_type": "markdown",
   "id": "ddcc0fbf-f59b-4a1a-87e2-409a20ba7b41",
   "metadata": {},
   "source": [
    "WAP to  checks if a number is positive, negative, or zero"
   ]
  },
  {
   "cell_type": "code",
   "execution_count": 66,
   "id": "07601764-4afa-49e5-9760-37c65b65747d",
   "metadata": {},
   "outputs": [
    {
     "name": "stdin",
     "output_type": "stream",
     "text": [
      "Enter a number:  5\n"
     ]
    },
    {
     "name": "stdout",
     "output_type": "stream",
     "text": [
      "Number is positive. \n"
     ]
    }
   ],
   "source": [
    "a = int(input(\"Enter a number: \"))\n",
    "if a > 0 :\n",
    "    print(\"Number is positive. \")\n",
    "elif a < 0 :\n",
    "    print(\"Number is negative. \")\n",
    "else:\n",
    "    print(\"Enter whole number\")"
   ]
  },
  {
   "cell_type": "markdown",
   "id": "4a08b79f-acc6-49f6-ad06-0395077258bd",
   "metadata": {},
   "source": [
    "WAP if a person is eligible for vote or not"
   ]
  },
  {
   "cell_type": "code",
   "execution_count": 70,
   "id": "c20d7666-6819-42e2-8236-35af775a8034",
   "metadata": {},
   "outputs": [
    {
     "name": "stdin",
     "output_type": "stream",
     "text": [
      "Enter age:  18\n"
     ]
    },
    {
     "name": "stdout",
     "output_type": "stream",
     "text": [
      "You are eligible for vote.\n"
     ]
    }
   ],
   "source": [
    "age = int(input(\"Enter age: \"))\n",
    "if age >= 18 :\n",
    "    print(\"You are eligible for vote.\")\n",
    "else :\n",
    "    print(\"You are not eligible for vote.\")"
   ]
  },
  {
   "cell_type": "markdown",
   "id": "ce1831bd-f19d-491b-950f-916b85043b9e",
   "metadata": {},
   "source": [
    "WAP if user entered number is even or odd"
   ]
  },
  {
   "cell_type": "code",
   "execution_count": 72,
   "id": "0d7e37b9-3635-4de9-bb66-b2b6edf5136b",
   "metadata": {},
   "outputs": [
    {
     "name": "stdin",
     "output_type": "stream",
     "text": [
      "Enter a number you want to check:  2\n"
     ]
    },
    {
     "name": "stdout",
     "output_type": "stream",
     "text": [
      "Number is even.\n"
     ]
    }
   ],
   "source": [
    "number = int(input(\"Enter a number you want to check: \"))\n",
    "if number % 2 == 0:\n",
    "    print(\"Number is even.\")\n",
    "else:\n",
    "    print(\"Number is odd.\")"
   ]
  },
  {
   "cell_type": "markdown",
   "id": "fc1139eb-db2f-4b55-a41c-e75611bf300b",
   "metadata": {},
   "source": [
    "WAP if number is divisible by 7 or not"
   ]
  },
  {
   "cell_type": "code",
   "execution_count": 76,
   "id": "aeeda6d9-63c5-4f42-8e4c-26fa5d657618",
   "metadata": {},
   "outputs": [
    {
     "name": "stdin",
     "output_type": "stream",
     "text": [
      "Enter a number:  14\n"
     ]
    },
    {
     "name": "stdout",
     "output_type": "stream",
     "text": [
      "yes\n"
     ]
    }
   ],
   "source": [
    "num = int(input(\"Enter a number: \"))\n",
    "if num % 7 == 0:\n",
    "    print(\"yes\")\n",
    "else:\n",
    "    print(\"No\")"
   ]
  },
  {
   "cell_type": "markdown",
   "id": "aead0c22-12a3-4505-9f20-a018e2a85a5b",
   "metadata": {},
   "source": [
    "Write a program to accept percentage from the user and display the grade according to the following **\r\n",
    "** criteria:\r\n",
    "** Marks Grade**\r\n",
    "marks > 80: A+ grade\r\n",
    "marks > 70 : A grade\r\n",
    "marks > 60: B grade\r\n",
    "** marks > 50: C grade**\r\n",
    "else Failed."
   ]
  },
  {
   "cell_type": "code",
   "execution_count": 83,
   "id": "7a75ac6f-8a09-4a84-bb61-0fffb129e628",
   "metadata": {},
   "outputs": [
    {
     "name": "stdin",
     "output_type": "stream",
     "text": [
      "Enter a percentage:  65\n"
     ]
    },
    {
     "name": "stdout",
     "output_type": "stream",
     "text": [
      "B grade\n"
     ]
    }
   ],
   "source": [
    "marks = int(input(\"Enter a percentage: \"))\n",
    "if marks >= 80:\n",
    "    print(\"A+ grade\")\n",
    "elif marks >= 70 :\n",
    "    print(\"A grade\")\n",
    "elif marks >= 60 :\n",
    "    print(\"B grade\")\n",
    "elif marks >= 50:\n",
    "    print(\"C grade\")\n",
    "else:\n",
    "    print(\"fail\")"
   ]
  },
  {
   "cell_type": "code",
   "execution_count": null,
   "id": "feee22a5-0b79-48e0-8c21-8d22782c1d47",
   "metadata": {},
   "outputs": [],
   "source": []
  }
 ],
 "metadata": {
  "kernelspec": {
   "display_name": "Python 3 (ipykernel)",
   "language": "python",
   "name": "python3"
  },
  "language_info": {
   "codemirror_mode": {
    "name": "ipython",
    "version": 3
   },
   "file_extension": ".py",
   "mimetype": "text/x-python",
   "name": "python",
   "nbconvert_exporter": "python",
   "pygments_lexer": "ipython3",
   "version": "3.11.7"
  }
 },
 "nbformat": 4,
 "nbformat_minor": 5
}
