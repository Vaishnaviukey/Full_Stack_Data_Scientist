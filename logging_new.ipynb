{
 "cells": [
  {
   "cell_type": "code",
   "execution_count": 1,
   "id": "8b3e8462-bd13-48f3-bf1b-c265e89b4a49",
   "metadata": {},
   "outputs": [],
   "source": [
    "import logging"
   ]
  },
  {
   "cell_type": "markdown",
   "id": "129e4809-054b-45bf-b78b-2f8db2da8c17",
   "metadata": {},
   "source": [
    "DEBUG\n",
    "INFO\n",
    "WRNING\n",
    "ERROR\n",
    "CRITICL"
   ]
  },
  {
   "cell_type": "code",
   "execution_count": 2,
   "id": "5f5b1733-5be7-42b9-95b6-972762b31263",
   "metadata": {},
   "outputs": [],
   "source": [
    "logging.basicConfig(filename=\"test1.log\", level=logging.DEBUG, format = \"%(asctime)s %(levelname)s %(message)s\")"
   ]
  },
  {
   "cell_type": "code",
   "execution_count": 3,
   "id": "1d0f35e7-08a4-47cb-9585-fa6882335b3a",
   "metadata": {},
   "outputs": [],
   "source": [
    "logging.info(\"This is my info log\")\n",
    "logging.warning(\"This is my warning log\")\n",
    "logging.debug(\"This is my debug log\")\n",
    "logging.error(\"This is my error log\")"
   ]
  },
  {
   "cell_type": "code",
   "execution_count": 4,
   "id": "9d1e36d6-c687-48c9-9565-590c825c6426",
   "metadata": {},
   "outputs": [],
   "source": [
    "def div(a,b):\n",
    "    logging.info(\"This is a start of my code and I am try to enter %s and %s\" ,a,b) # %s = a , %s=b\n",
    "    try:\n",
    "        division = a/b\n",
    "        logging.info(\"a/b exected succesfully\")\n",
    "    except Exception as e:\n",
    "        logging.error(\"Error has happend\")\n",
    "        logging.exception(\"Exception occured \" + str(e))"
   ]
  },
  {
   "cell_type": "code",
   "execution_count": 5,
   "id": "be090316-6017-44bd-9dfb-1b3af664f2f2",
   "metadata": {},
   "outputs": [],
   "source": [
    "div(10,2)"
   ]
  },
  {
   "cell_type": "code",
   "execution_count": 6,
   "id": "b7a678ef-ffbc-4a9f-8351-0b7af0302939",
   "metadata": {},
   "outputs": [],
   "source": [
    "div(4,0)"
   ]
  },
  {
   "cell_type": "code",
   "execution_count": null,
   "id": "847dc41a-9bd4-46af-b995-400f4fd9641a",
   "metadata": {},
   "outputs": [],
   "source": []
  }
 ],
 "metadata": {
  "kernelspec": {
   "display_name": "Python 3 (ipykernel)",
   "language": "python",
   "name": "python3"
  },
  "language_info": {
   "codemirror_mode": {
    "name": "ipython",
    "version": 3
   },
   "file_extension": ".py",
   "mimetype": "text/x-python",
   "name": "python",
   "nbconvert_exporter": "python",
   "pygments_lexer": "ipython3",
   "version": "3.11.7"
  }
 },
 "nbformat": 4,
 "nbformat_minor": 5
}
