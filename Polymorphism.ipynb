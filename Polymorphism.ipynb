{
 "cells": [
  {
   "cell_type": "markdown",
   "id": "b0e1b931-5e8c-4853-98ba-e9834df315fb",
   "metadata": {},
   "source": [
    "# Polymorphism"
   ]
  },
  {
   "cell_type": "code",
   "execution_count": 10,
   "id": "c223b1ee-2259-412f-96ae-57ad1c985529",
   "metadata": {},
   "outputs": [],
   "source": [
    "class Animal:\n",
    "    def make_sound(self):\n",
    "        print(\"Animal makes sound\")"
   ]
  },
  {
   "cell_type": "code",
   "execution_count": 11,
   "id": "a345c032-90e6-48e5-97e2-72f7e7837b33",
   "metadata": {},
   "outputs": [],
   "source": [
    "class Dog(Animal):\n",
    "    def make_sound(self):\n",
    "        print(\"Dog barks\")"
   ]
  },
  {
   "cell_type": "code",
   "execution_count": 12,
   "id": "44899b21-53f5-47ea-818c-e3eda28d0f2d",
   "metadata": {},
   "outputs": [],
   "source": [
    "class Cat(Animal):\n",
    "    def make_sound(self):\n",
    "        print(\"Cat Mewos\")"
   ]
  },
  {
   "cell_type": "code",
   "execution_count": 13,
   "id": "f0500628-36d1-4245-b49f-bc5c14378d32",
   "metadata": {},
   "outputs": [],
   "source": [
    "Tommy = Dog()"
   ]
  },
  {
   "cell_type": "code",
   "execution_count": 14,
   "id": "60cf983c-04ae-470b-8f47-10371d1aa198",
   "metadata": {},
   "outputs": [
    {
     "name": "stdout",
     "output_type": "stream",
     "text": [
      "Dog barks\n"
     ]
    }
   ],
   "source": [
    "Tommy.make_sound()"
   ]
  },
  {
   "cell_type": "code",
   "execution_count": 15,
   "id": "b82ff5dd-f981-446f-8676-cad5867efe10",
   "metadata": {},
   "outputs": [],
   "source": [
    "s = Cat()"
   ]
  },
  {
   "cell_type": "code",
   "execution_count": 17,
   "id": "183ec742-54df-471a-bb59-879f86711739",
   "metadata": {},
   "outputs": [
    {
     "name": "stdout",
     "output_type": "stream",
     "text": [
      "Cat Mewos\n"
     ]
    }
   ],
   "source": [
    "s.make_sound()"
   ]
  },
  {
   "cell_type": "code",
   "execution_count": 19,
   "id": "5151271c-2db0-418d-9b00-4e77854179db",
   "metadata": {},
   "outputs": [],
   "source": [
    "class Shape:\n",
    "    def area(self):\n",
    "        pass\n",
    "\n",
    "class Rect(Shape):\n",
    "    def __init__(self,width,height):\n",
    "        self.width = width\n",
    "        self.height = height\n",
    "\n",
    "    def area(self):\n",
    "        return self.width * self.height\n",
    "\n",
    "class circle(Shape):\n",
    "    def __init__(self,radius):\n",
    "        self.radius = radius\n",
    "\n",
    "    def area(self):\n",
    "        return 3.14 * self.radius ** 2"
   ]
  },
  {
   "cell_type": "code",
   "execution_count": 20,
   "id": "d33ee3fe-fffa-471f-8e8d-2604b1599a89",
   "metadata": {},
   "outputs": [],
   "source": [
    "r1 = Rect(2,5)"
   ]
  },
  {
   "cell_type": "code",
   "execution_count": 21,
   "id": "19da068b-5767-4648-9a5f-07c2c52a9b8e",
   "metadata": {},
   "outputs": [
    {
     "data": {
      "text/plain": [
       "10"
      ]
     },
     "execution_count": 21,
     "metadata": {},
     "output_type": "execute_result"
    }
   ],
   "source": [
    "r1.area()"
   ]
  },
  {
   "cell_type": "code",
   "execution_count": 24,
   "id": "d1d06f54-f0c3-46d1-9ad5-97fa21203e4b",
   "metadata": {},
   "outputs": [],
   "source": [
    "c1 = circle(5)"
   ]
  },
  {
   "cell_type": "code",
   "execution_count": 25,
   "id": "8cd76375-bc0f-4971-b75d-1ea475cc74f9",
   "metadata": {},
   "outputs": [
    {
     "data": {
      "text/plain": [
       "78.5"
      ]
     },
     "execution_count": 25,
     "metadata": {},
     "output_type": "execute_result"
    }
   ],
   "source": [
    "c1.area()"
   ]
  },
  {
   "cell_type": "code",
   "execution_count": 27,
   "id": "9551244d-8c3c-4b67-a6bc-ee24dbe1956e",
   "metadata": {},
   "outputs": [],
   "source": [
    "class socialMedia:\n",
    "    def share_story(self):\n",
    "        print(\"story is sharing\")\n",
    "    def upload_pic(self):\n",
    "        print(\"uploding pic\")\n",
    "\n",
    "class FB(socialMedia):\n",
    "    def share_story(self):\n",
    "        print(\"I will help you to share story on FB\")\n",
    "    def upload_pic(self):\n",
    "        print(\"I will help you to upload pic on FB\")\n",
    "\n",
    "class Insta(socialMedia):\n",
    "    def share_story(self):\n",
    "        print(\"I will help you to share story on Instagram\")\n",
    "    def upload_pic(self):\n",
    "        print(\"I will help you to upload pic on Instagram\")"
   ]
  },
  {
   "cell_type": "code",
   "execution_count": 28,
   "id": "2a42436d-3fa4-4728-8994-511d6daf6ca1",
   "metadata": {},
   "outputs": [],
   "source": [
    "A = FB()"
   ]
  },
  {
   "cell_type": "code",
   "execution_count": 30,
   "id": "62a15b62-21f4-419b-9c30-71f9ddf2c611",
   "metadata": {},
   "outputs": [
    {
     "name": "stdout",
     "output_type": "stream",
     "text": [
      "I will help you to share story on FB\n"
     ]
    }
   ],
   "source": [
    "A.share_story()"
   ]
  },
  {
   "cell_type": "code",
   "execution_count": 32,
   "id": "95ef6053-2189-4626-a847-f8c953eebfb1",
   "metadata": {},
   "outputs": [
    {
     "name": "stdout",
     "output_type": "stream",
     "text": [
      "I will help you to upload pic on FB\n"
     ]
    }
   ],
   "source": [
    "A.upload_pic()"
   ]
  },
  {
   "cell_type": "code",
   "execution_count": 33,
   "id": "e04ecd7d-4b6b-4d63-84ec-3f4d69346f13",
   "metadata": {},
   "outputs": [],
   "source": [
    "B = Insta()"
   ]
  },
  {
   "cell_type": "code",
   "execution_count": 35,
   "id": "d56d9952-ae9e-4e6c-a9fd-11a670a63e54",
   "metadata": {},
   "outputs": [
    {
     "name": "stdout",
     "output_type": "stream",
     "text": [
      "I will help you to share story on Instagram\n"
     ]
    }
   ],
   "source": [
    "B.share_story()"
   ]
  },
  {
   "cell_type": "code",
   "execution_count": 36,
   "id": "fbfc9b34-912d-41b7-8141-36197a2f6f55",
   "metadata": {},
   "outputs": [
    {
     "name": "stdout",
     "output_type": "stream",
     "text": [
      "I will help you to upload pic on Instagram\n"
     ]
    }
   ],
   "source": [
    "B.upload_pic()"
   ]
  },
  {
   "cell_type": "code",
   "execution_count": 37,
   "id": "962835fa-329e-4764-8bfb-875594eddf7c",
   "metadata": {},
   "outputs": [
    {
     "name": "stdout",
     "output_type": "stream",
     "text": [
      "I will help you to share story on FB\n",
      "I will help you to upload pic on FB\n",
      "I will help you to share story on Instagram\n",
      "I will help you to upload pic on Instagram\n"
     ]
    }
   ],
   "source": [
    "A = FB()\n",
    "A.share_story()\n",
    "A.upload_pic()\n",
    "B = Insta()\n",
    "B.share_story()\n",
    "B.upload_pic()"
   ]
  },
  {
   "cell_type": "code",
   "execution_count": null,
   "id": "527fe2ca-64de-49ac-a373-4aa8ab1140f4",
   "metadata": {},
   "outputs": [],
   "source": []
  }
 ],
 "metadata": {
  "kernelspec": {
   "display_name": "Python 3 (ipykernel)",
   "language": "python",
   "name": "python3"
  },
  "language_info": {
   "codemirror_mode": {
    "name": "ipython",
    "version": 3
   },
   "file_extension": ".py",
   "mimetype": "text/x-python",
   "name": "python",
   "nbconvert_exporter": "python",
   "pygments_lexer": "ipython3",
   "version": "3.11.7"
  }
 },
 "nbformat": 4,
 "nbformat_minor": 5
}
