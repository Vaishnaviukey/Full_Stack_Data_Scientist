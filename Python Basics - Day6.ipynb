{
 "cells": [
  {
   "cell_type": "code",
   "execution_count": 1,
   "id": "631fb5d6-8c8e-49fc-a22b-7182ef924d24",
   "metadata": {},
   "outputs": [],
   "source": [
    "def test_kwargs(**kwargs):\n",
    "    return kwargs"
   ]
  },
  {
   "cell_type": "code",
   "execution_count": 2,
   "id": "85500c1a-7acd-4e8a-bc00-5ced7031853c",
   "metadata": {},
   "outputs": [
    {
     "data": {
      "text/plain": [
       "{'a': 1, 'b': 2}"
      ]
     },
     "execution_count": 2,
     "metadata": {},
     "output_type": "execute_result"
    }
   ],
   "source": [
    "test_kwargs(a=1,b=2)"
   ]
  },
  {
   "cell_type": "code",
   "execution_count": 3,
   "id": "6a7f22a3-2cba-495a-9d22-c35fdcba2b79",
   "metadata": {},
   "outputs": [
    {
     "data": {
      "text/plain": [
       "dict"
      ]
     },
     "execution_count": 3,
     "metadata": {},
     "output_type": "execute_result"
    }
   ],
   "source": [
    "type(test_kwargs(a=1,b=2))"
   ]
  },
  {
   "cell_type": "code",
   "execution_count": 4,
   "id": "694495c2-0f7f-48fa-865d-87984dd382f7",
   "metadata": {},
   "outputs": [],
   "source": [
    "def test_args_kwargs(*args,**kwargs):\n",
    "    return args, kwargs"
   ]
  },
  {
   "cell_type": "code",
   "execution_count": 5,
   "id": "97722970-b0d7-410b-b220-94b5f3366ce7",
   "metadata": {},
   "outputs": [
    {
     "data": {
      "text/plain": [
       "((1, 2, 3, 4), {'a': 2, 'b': 3})"
      ]
     },
     "execution_count": 5,
     "metadata": {},
     "output_type": "execute_result"
    }
   ],
   "source": [
    "test_args_kwargs(1,2,3,4,a=2,b=3)"
   ]
  },
  {
   "cell_type": "code",
   "execution_count": 6,
   "id": "e9fe74d1-2524-4420-9b72-cb7df2283351",
   "metadata": {},
   "outputs": [],
   "source": [
    "def test(a,b,*args,**kwargs):\n",
    "    return a,b,args,kwargs"
   ]
  },
  {
   "cell_type": "code",
   "execution_count": 9,
   "id": "6456ca8f-6ef7-49f8-97cb-f616dc99231c",
   "metadata": {},
   "outputs": [
    {
     "data": {
      "text/plain": [
       "(1, 2, (3,), {'k': 4})"
      ]
     },
     "execution_count": 9,
     "metadata": {},
     "output_type": "execute_result"
    }
   ],
   "source": [
    "test(1, 2, 3, k=4)"
   ]
  },
  {
   "cell_type": "code",
   "execution_count": 10,
   "id": "0123b462-0f18-4461-9c63-13e950cc4a4f",
   "metadata": {},
   "outputs": [],
   "source": [
    "def test_kwargs_value(**kwargs):\n",
    "    return kwargs.keys()"
   ]
  },
  {
   "cell_type": "code",
   "execution_count": 11,
   "id": "9cdf357c-6955-4d86-af74-ccdd2d54b35d",
   "metadata": {},
   "outputs": [
    {
     "data": {
      "text/plain": [
       "dict_keys(['k', 'q', 'o'])"
      ]
     },
     "execution_count": 11,
     "metadata": {},
     "output_type": "execute_result"
    }
   ],
   "source": [
    "test_kwargs_value(k=1,q=2,o=3)"
   ]
  },
  {
   "cell_type": "markdown",
   "id": "0fc6ff73-8c2b-4cc5-a652-149ca7d479a3",
   "metadata": {},
   "source": [
    "# Anonymous Function / Lambda function"
   ]
  },
  {
   "cell_type": "code",
   "execution_count": 15,
   "id": "b38bec1a-101b-456a-b742-ad09ed1d27cf",
   "metadata": {},
   "outputs": [],
   "source": [
    "x = lambda a: a*2"
   ]
  },
  {
   "cell_type": "code",
   "execution_count": 16,
   "id": "8d46a0aa-4667-4ed8-9028-052da6f22025",
   "metadata": {},
   "outputs": [
    {
     "data": {
      "text/plain": [
       "4"
      ]
     },
     "execution_count": 16,
     "metadata": {},
     "output_type": "execute_result"
    }
   ],
   "source": [
    "x(2)"
   ]
  },
  {
   "cell_type": "code",
   "execution_count": 17,
   "id": "2dda412f-97b1-4811-8e49-6d952455381e",
   "metadata": {},
   "outputs": [],
   "source": [
    "y = lambda x : x**2"
   ]
  },
  {
   "cell_type": "code",
   "execution_count": 18,
   "id": "b233bf7d-4208-4701-8175-53d5d99fb628",
   "metadata": {},
   "outputs": [
    {
     "data": {
      "text/plain": [
       "9"
      ]
     },
     "execution_count": 18,
     "metadata": {},
     "output_type": "execute_result"
    }
   ],
   "source": [
    "y(3)"
   ]
  },
  {
   "cell_type": "code",
   "execution_count": 19,
   "id": "f6057e00-ebaa-4288-b292-e9cf68db30b2",
   "metadata": {},
   "outputs": [],
   "source": [
    "x = lambda *args : args"
   ]
  },
  {
   "cell_type": "code",
   "execution_count": 21,
   "id": "ecc89261-2957-484d-99ee-ac3abdfb931d",
   "metadata": {},
   "outputs": [
    {
     "data": {
      "text/plain": [
       "(1, 2, 34, 4)"
      ]
     },
     "execution_count": 21,
     "metadata": {},
     "output_type": "execute_result"
    }
   ],
   "source": [
    "x(1,2,34,4)"
   ]
  },
  {
   "cell_type": "code",
   "execution_count": 23,
   "id": "cf6ff740-ae0c-4be7-8530-c0cebc116c94",
   "metadata": {},
   "outputs": [
    {
     "data": {
      "text/plain": [
       "5"
      ]
     },
     "execution_count": 23,
     "metadata": {},
     "output_type": "execute_result"
    }
   ],
   "source": [
    "h = lambda a,b : a+b\n",
    "h(2,3)"
   ]
  },
  {
   "cell_type": "code",
   "execution_count": 25,
   "id": "f2cba979-11cc-4a5f-b490-1fc5e15f08de",
   "metadata": {},
   "outputs": [
    {
     "ename": "SyntaxError",
     "evalue": "invalid syntax (878914434.py, line 1)",
     "output_type": "error",
     "traceback": [
      "\u001b[1;36m  Cell \u001b[1;32mIn[25], line 1\u001b[1;36m\u001b[0m\n\u001b[1;33m    c = lambda s : i for i in s   # this is not allowed here\u001b[0m\n\u001b[1;37m                     ^\u001b[0m\n\u001b[1;31mSyntaxError\u001b[0m\u001b[1;31m:\u001b[0m invalid syntax\n"
     ]
    }
   ],
   "source": [
    "c = lambda s : i for i in s   # this is not allowed here"
   ]
  },
  {
   "cell_type": "markdown",
   "id": "ef8b18d1-cc79-4c2c-892e-5991bf693910",
   "metadata": {},
   "source": [
    "# List Compression"
   ]
  },
  {
   "cell_type": "code",
   "execution_count": 26,
   "id": "61b751ee-3e61-46ac-9b80-2bbd89e237b2",
   "metadata": {},
   "outputs": [],
   "source": [
    "c = lambda s : [i for i in s]  "
   ]
  },
  {
   "cell_type": "code",
   "execution_count": 28,
   "id": "be9a0dbd-a144-4489-834f-e65fbf7818a7",
   "metadata": {},
   "outputs": [
    {
     "data": {
      "text/plain": [
       "[1, 2, 3, 4]"
      ]
     },
     "execution_count": 28,
     "metadata": {},
     "output_type": "execute_result"
    }
   ],
   "source": [
    "c([1,2,3,4])"
   ]
  },
  {
   "cell_type": "code",
   "execution_count": 31,
   "id": "1b04ba60-30a5-4fc3-99f8-4de8fd59b11b",
   "metadata": {},
   "outputs": [
    {
     "data": {
      "text/plain": [
       "[0, 1, 2, 3, 4]"
      ]
     },
     "execution_count": 31,
     "metadata": {},
     "output_type": "execute_result"
    }
   ],
   "source": [
    "#List\n",
    "[i for i in range(5)]"
   ]
  },
  {
   "cell_type": "code",
   "execution_count": 34,
   "id": "fdb5a14f-bedc-48b2-8654-8f5fe9e62e43",
   "metadata": {},
   "outputs": [
    {
     "data": {
      "text/plain": [
       "['D', 'a', 't', 'a', 'S', 'c', 'i', 'e', 'n', 'c', 'e']"
      ]
     },
     "execution_count": 34,
     "metadata": {},
     "output_type": "execute_result"
    }
   ],
   "source": [
    "s = [i for i in \"DataScience\"]\n",
    "s"
   ]
  },
  {
   "cell_type": "code",
   "execution_count": 36,
   "id": "e11c1bf0-bb13-4a81-986f-a6a394aa04d6",
   "metadata": {},
   "outputs": [
    {
     "data": {
      "text/plain": [
       "[10, 11, 12, 13, 14, 15, 16, 17, 18, 19]"
      ]
     },
     "execution_count": 36,
     "metadata": {},
     "output_type": "execute_result"
    }
   ],
   "source": [
    "[i+10 for i in range(10) ]"
   ]
  },
  {
   "cell_type": "code",
   "execution_count": 57,
   "id": "88882bd9-db4e-42b0-bcfd-7f9034e37108",
   "metadata": {},
   "outputs": [],
   "source": [
    "numbers = [1,2,3,4,5]"
   ]
  },
  {
   "cell_type": "code",
   "execution_count": null,
   "id": "aab7bb5b-3a69-492f-8e19-0cbb16d3da8f",
   "metadata": {},
   "outputs": [],
   "source": [
    "square_even_numbers = [i for i in range ]"
   ]
  },
  {
   "cell_type": "code",
   "execution_count": 44,
   "id": "ca4cb0a3-dcd6-44e2-bc27-37a434f199cc",
   "metadata": {},
   "outputs": [
    {
     "name": "stdout",
     "output_type": "stream",
     "text": [
      "odd\n",
      "even\n",
      "odd\n",
      "even\n",
      "odd\n"
     ]
    }
   ],
   "source": [
    "for i in numbers:\n",
    "    if i % 2 == 0:\n",
    "        print(\"even\")\n",
    "    else:\n",
    "        print(\"odd\")"
   ]
  },
  {
   "cell_type": "code",
   "execution_count": 61,
   "id": "24421940-4028-4995-8a93-dd921337a085",
   "metadata": {},
   "outputs": [
    {
     "data": {
      "text/plain": [
       "[1, 4, 3, 16, 5]"
      ]
     },
     "execution_count": 61,
     "metadata": {},
     "output_type": "execute_result"
    }
   ],
   "source": [
    "[ i**2 if i%2==0  else i for i in numbers ]"
   ]
  },
  {
   "cell_type": "code",
   "execution_count": 51,
   "id": "68e4722d-ee34-4374-b8b6-baa35b048c34",
   "metadata": {},
   "outputs": [],
   "source": [
    "names = [\"India\",\"Pakistan\",\"Germany\",\"Japan\"]"
   ]
  },
  {
   "cell_type": "code",
   "execution_count": 53,
   "id": "7b9797c6-6642-4fcf-bb0e-132ec57f13d0",
   "metadata": {},
   "outputs": [
    {
     "name": "stdout",
     "output_type": "stream",
     "text": [
      "Pakistan\n",
      "Germany\n"
     ]
    }
   ],
   "source": [
    "for i in names:\n",
    "    if len(i) > 5:\n",
    "        print(i)"
   ]
  },
  {
   "cell_type": "code",
   "execution_count": 54,
   "id": "73653219-26fa-4a5c-be1e-034cccc488fa",
   "metadata": {},
   "outputs": [
    {
     "data": {
      "text/plain": [
       "['Pakistan', 'Germany']"
      ]
     },
     "execution_count": 54,
     "metadata": {},
     "output_type": "execute_result"
    }
   ],
   "source": [
    "[i for i in names if len(i) > 5]"
   ]
  },
  {
   "cell_type": "code",
   "execution_count": 55,
   "id": "06dbb27b-e261-44bc-a1cf-918947b2ddbb",
   "metadata": {},
   "outputs": [
    {
     "data": {
      "text/plain": [
       "[4, 16]"
      ]
     },
     "execution_count": 55,
     "metadata": {},
     "output_type": "execute_result"
    }
   ],
   "source": [
    "[i**2 for i in numbers if i%2==0 ]"
   ]
  },
  {
   "cell_type": "code",
   "execution_count": 63,
   "id": "0b8381db-87bb-4732-ae28-15d035627023",
   "metadata": {},
   "outputs": [
    {
     "data": {
      "text/plain": [
       "{0: 0, 1: 1, 2: 2, 3: 3, 4: 4}"
      ]
     },
     "execution_count": 63,
     "metadata": {},
     "output_type": "execute_result"
    }
   ],
   "source": [
    "{i: i for i in range(5)}"
   ]
  },
  {
   "cell_type": "code",
   "execution_count": 64,
   "id": "77661bf0-baf4-4f2b-8ea9-29f293d89143",
   "metadata": {},
   "outputs": [
    {
     "data": {
      "text/plain": [
       "{0: 0, 1: 1, 2: 4, 3: 9, 4: 16}"
      ]
     },
     "execution_count": 64,
     "metadata": {},
     "output_type": "execute_result"
    }
   ],
   "source": [
    "{i : i**2 for i in range(5)}"
   ]
  },
  {
   "cell_type": "code",
   "execution_count": 66,
   "id": "e3c98ca5-ed30-4f78-a7fe-b6e160ec420f",
   "metadata": {},
   "outputs": [
    {
     "data": {
      "text/plain": [
       "(0, 1, 2, 3)"
      ]
     },
     "execution_count": 66,
     "metadata": {},
     "output_type": "execute_result"
    }
   ],
   "source": [
    "tuple(i for i in range(4))"
   ]
  },
  {
   "cell_type": "markdown",
   "id": "e033efcf-8758-4f05-936b-9bca2cd25ae1",
   "metadata": {},
   "source": [
    "# iterator and generator"
   ]
  },
  {
   "cell_type": "code",
   "execution_count": null,
   "id": "94cf0f57-5102-4240-822c-7dd2e673ff39",
   "metadata": {},
   "outputs": [],
   "source": []
  }
 ],
 "metadata": {
  "kernelspec": {
   "display_name": "Python 3 (ipykernel)",
   "language": "python",
   "name": "python3"
  },
  "language_info": {
   "codemirror_mode": {
    "name": "ipython",
    "version": 3
   },
   "file_extension": ".py",
   "mimetype": "text/x-python",
   "name": "python",
   "nbconvert_exporter": "python",
   "pygments_lexer": "ipython3",
   "version": "3.11.7"
  }
 },
 "nbformat": 4,
 "nbformat_minor": 5
}
