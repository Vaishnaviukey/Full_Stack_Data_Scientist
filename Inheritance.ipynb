{
 "cells": [
  {
   "cell_type": "code",
   "execution_count": 29,
   "id": "bce0a730-fff0-4853-99d3-3a635ab7b9de",
   "metadata": {},
   "outputs": [],
   "source": [
    "class list_parcer:\n",
    "    def __init__(self,a):\n",
    "        self.a = a\n",
    "    def parcer(self):\n",
    "        if type(self.a) == list :\n",
    "            for i in self.a:\n",
    "                print(i)\n",
    "\n",
    "    def Rev(self):\n",
    "        print(self.a[::-1])"
   ]
  },
  {
   "cell_type": "code",
   "execution_count": 30,
   "id": "777d8003-8770-42ef-aa41-be04f62700bd",
   "metadata": {},
   "outputs": [],
   "source": [
    "x = list_parcer([1,2,3,4,5])"
   ]
  },
  {
   "cell_type": "code",
   "execution_count": 31,
   "id": "0ec87bc8-157f-4833-b9d8-7f0235466a44",
   "metadata": {},
   "outputs": [
    {
     "data": {
      "text/plain": [
       "[1, 2, 3, 4, 5]"
      ]
     },
     "execution_count": 31,
     "metadata": {},
     "output_type": "execute_result"
    }
   ],
   "source": [
    "x.a"
   ]
  },
  {
   "cell_type": "code",
   "execution_count": 32,
   "id": "fdfdef4a-c4b2-4742-8e28-f3199c1db606",
   "metadata": {},
   "outputs": [
    {
     "name": "stdout",
     "output_type": "stream",
     "text": [
      "1\n",
      "2\n",
      "3\n",
      "4\n",
      "5\n"
     ]
    }
   ],
   "source": [
    "x.parcer()"
   ]
  },
  {
   "cell_type": "code",
   "execution_count": 34,
   "id": "02173395-19cf-4a1c-b03d-07f57c99dafc",
   "metadata": {},
   "outputs": [
    {
     "name": "stdout",
     "output_type": "stream",
     "text": [
      "[5, 4, 3, 2, 1]\n"
     ]
    }
   ],
   "source": [
    "x.Rev()"
   ]
  },
  {
   "cell_type": "code",
   "execution_count": 35,
   "id": "af81bc95-8a25-4c88-9900-fbd638e46cf9",
   "metadata": {},
   "outputs": [],
   "source": [
    "class Num_magic:\n",
    "    def __init__(self,a,b):\n",
    "        self.a = a\n",
    "        self.b = b\n",
    "    def add(self):\n",
    "        return self.a+self.b\n",
    "    def div(self):\n",
    "        return self.a/self.b\n",
    "    def mul(self):\n",
    "        return self.a*self.b"
   ]
  },
  {
   "cell_type": "code",
   "execution_count": 36,
   "id": "6c7cec26-51e1-4df9-bb0f-cf9259c41345",
   "metadata": {},
   "outputs": [],
   "source": [
    "d = Num_magic(10,5)"
   ]
  },
  {
   "cell_type": "code",
   "execution_count": 37,
   "id": "7bacaacc-dd00-4905-b422-d0b0a94ea27f",
   "metadata": {},
   "outputs": [
    {
     "data": {
      "text/plain": [
       "15"
      ]
     },
     "execution_count": 37,
     "metadata": {},
     "output_type": "execute_result"
    }
   ],
   "source": [
    "d.add()"
   ]
  },
  {
   "cell_type": "code",
   "execution_count": 39,
   "id": "9b823ed9-42db-4d77-b71a-54612986cb79",
   "metadata": {},
   "outputs": [
    {
     "data": {
      "text/plain": [
       "2.0"
      ]
     },
     "execution_count": 39,
     "metadata": {},
     "output_type": "execute_result"
    }
   ],
   "source": [
    "d.div()"
   ]
  },
  {
   "cell_type": "code",
   "execution_count": 40,
   "id": "e8f6d176-2c24-41c5-8763-69cd2e1fe28f",
   "metadata": {},
   "outputs": [
    {
     "data": {
      "text/plain": [
       "50"
      ]
     },
     "execution_count": 40,
     "metadata": {},
     "output_type": "execute_result"
    }
   ],
   "source": [
    "d.mul()"
   ]
  },
  {
   "cell_type": "code",
   "execution_count": 66,
   "id": "bd7a8b14-7de3-4fbd-b87e-fa6e0d6d82b6",
   "metadata": {},
   "outputs": [],
   "source": [
    "class Even_Odd:\n",
    "    def __init__(self,a):\n",
    "        self.a = a\n",
    "    def even_odd(self):\n",
    "        if self.a%2 == 0:\n",
    "            print(\"Even\")\n",
    "        else:\n",
    "            print(\"odd\")\n",
    "    # def odd(self):\n",
    "    #     if self.a%2 != 0:\n",
    "    #         print(\"Odd\")\n",
    "    #     else:\n",
    "    #         print(\"odd\")"
   ]
  },
  {
   "cell_type": "code",
   "execution_count": 67,
   "id": "2a2f1d81-3ba2-4b95-b6ce-094e9187c1ba",
   "metadata": {},
   "outputs": [],
   "source": [
    "b = Even_Odd(10)"
   ]
  },
  {
   "cell_type": "code",
   "execution_count": 68,
   "id": "d363ab80-e3d8-4ea4-9f65-1e5a6f6caacf",
   "metadata": {},
   "outputs": [
    {
     "name": "stdout",
     "output_type": "stream",
     "text": [
      "Even\n"
     ]
    }
   ],
   "source": [
    "b.even_odd()"
   ]
  },
  {
   "cell_type": "code",
   "execution_count": 21,
   "id": "8dc3a48e-9377-4c00-9b77-bf46ddd8a08a",
   "metadata": {},
   "outputs": [],
   "source": [
    "class house:\n",
    "    def __init__(self,area,BHK,floor):\n",
    "        self.area = area #public\n",
    "        self._BHK = BHK #private\n",
    "        self.__floor = floor #protected\n",
    "    def show(self):\n",
    "        print(\"Area is : \",self.area)\n",
    "        print(\"BHK is: \",self._BHK)\n",
    "        print(\"floor is: \",self.__floor)\n",
    "house1 = house(\"2000 sq.m\",2,2)\n"
   ]
  },
  {
   "cell_type": "code",
   "execution_count": 22,
   "id": "c64547ba-cef0-45fc-97b7-5904a88667e7",
   "metadata": {},
   "outputs": [],
   "source": [
    "house1 = house(\"2000 sq.m\",2,2)"
   ]
  },
  {
   "cell_type": "code",
   "execution_count": 18,
   "id": "4aacbcec-7ecb-4bbb-b2a2-abb8e3df533b",
   "metadata": {},
   "outputs": [],
   "source": [
    "house1.area = 3000\n"
   ]
  },
  {
   "cell_type": "code",
   "execution_count": 15,
   "id": "b48085b1-bbb1-4c82-bdcd-5422d0d4c954",
   "metadata": {},
   "outputs": [
    {
     "data": {
      "text/plain": [
       "2"
      ]
     },
     "execution_count": 15,
     "metadata": {},
     "output_type": "execute_result"
    }
   ],
   "source": [
    "house1._BHK"
   ]
  },
  {
   "cell_type": "code",
   "execution_count": 17,
   "id": "b295915c-1756-43db-aa0c-a162f4b7d5f1",
   "metadata": {},
   "outputs": [
    {
     "data": {
      "text/plain": [
       "2"
      ]
     },
     "execution_count": 17,
     "metadata": {},
     "output_type": "execute_result"
    }
   ],
   "source": [
    "house1._house__floor"
   ]
  },
  {
   "cell_type": "code",
   "execution_count": 23,
   "id": "8a5a355b-573d-435c-b597-ada5a8a5171a",
   "metadata": {},
   "outputs": [
    {
     "name": "stdout",
     "output_type": "stream",
     "text": [
      "Area is :  2000 sq.m\n",
      "BHK is:  2\n",
      "floor is:  2\n"
     ]
    }
   ],
   "source": [
    "house1.show()"
   ]
  },
  {
   "cell_type": "markdown",
   "id": "5bc9f386-4625-45ec-8512-91b61f526244",
   "metadata": {},
   "source": [
    "# Inheritance"
   ]
  },
  {
   "cell_type": "code",
   "execution_count": 24,
   "id": "0e24c787-a830-4ebb-a84c-5731b40bd94e",
   "metadata": {},
   "outputs": [],
   "source": [
    "class parent:\n",
    "    def __init__(self,a,b,c):\n",
    "        self.a = a\n",
    "        self.b = b\n",
    "        self.c = c"
   ]
  },
  {
   "cell_type": "code",
   "execution_count": 25,
   "id": "aa771747-40f2-4ff2-a20d-1956757d0775",
   "metadata": {},
   "outputs": [],
   "source": [
    "class child(parent):\n",
    "    pass"
   ]
  },
  {
   "cell_type": "code",
   "execution_count": 27,
   "id": "089014fe-1602-4320-8f1e-86dd30e9c039",
   "metadata": {},
   "outputs": [],
   "source": [
    "C1 = child(1,2,3) #C1 is object"
   ]
  },
  {
   "cell_type": "code",
   "execution_count": 28,
   "id": "afd0a7dc-c09c-41a3-b85e-cb7ceff8a2cf",
   "metadata": {},
   "outputs": [
    {
     "data": {
      "text/plain": [
       "1"
      ]
     },
     "execution_count": 28,
     "metadata": {},
     "output_type": "execute_result"
    }
   ],
   "source": [
    "C1.a"
   ]
  },
  {
   "cell_type": "code",
   "execution_count": 29,
   "id": "ac3a2519-e1c3-4520-8ac4-2a0b5f07cde8",
   "metadata": {},
   "outputs": [
    {
     "data": {
      "text/plain": [
       "2"
      ]
     },
     "execution_count": 29,
     "metadata": {},
     "output_type": "execute_result"
    }
   ],
   "source": [
    "C1.b"
   ]
  },
  {
   "cell_type": "code",
   "execution_count": 30,
   "id": "1811c672-df8d-4259-a5ef-54b7fd01cc0d",
   "metadata": {},
   "outputs": [
    {
     "data": {
      "text/plain": [
       "3"
      ]
     },
     "execution_count": 30,
     "metadata": {},
     "output_type": "execute_result"
    }
   ],
   "source": [
    "C1.c"
   ]
  },
  {
   "cell_type": "code",
   "execution_count": 31,
   "id": "0fd685d6-1a22-46a2-9ab6-9ab82a8d9d28",
   "metadata": {},
   "outputs": [],
   "source": [
    "class child(parent):\n",
    "    def display(self):\n",
    "        print(\"This is Child Class and I am displaing Function\")"
   ]
  },
  {
   "cell_type": "code",
   "execution_count": 32,
   "id": "916617cb-4de8-4f5b-9807-a85daf353401",
   "metadata": {},
   "outputs": [],
   "source": [
    "p1 = parent(1,2,3)"
   ]
  },
  {
   "cell_type": "code",
   "execution_count": 33,
   "id": "48c675bf-1955-4062-9cc7-0020f9759c3f",
   "metadata": {},
   "outputs": [
    {
     "data": {
      "text/plain": [
       "1"
      ]
     },
     "execution_count": 33,
     "metadata": {},
     "output_type": "execute_result"
    }
   ],
   "source": [
    "p1.a"
   ]
  },
  {
   "cell_type": "code",
   "execution_count": 34,
   "id": "ef8f40ef-9d6a-4801-a4f4-6c65788201e7",
   "metadata": {},
   "outputs": [],
   "source": [
    "c2 = child(1,2,3)"
   ]
  },
  {
   "cell_type": "code",
   "execution_count": 35,
   "id": "06b817d8-9cda-461a-b884-7017ae78d6ab",
   "metadata": {},
   "outputs": [
    {
     "name": "stdout",
     "output_type": "stream",
     "text": [
      "This is Child Class and I am displaing Function\n"
     ]
    }
   ],
   "source": [
    "c2.display()"
   ]
  },
  {
   "cell_type": "code",
   "execution_count": 36,
   "id": "090e7c00-f374-4e23-9aec-fec461e7c3d8",
   "metadata": {},
   "outputs": [],
   "source": [
    "# Parent class contains the child property? no\n",
    "# child class contain parent property? yes"
   ]
  },
  {
   "cell_type": "code",
   "execution_count": 44,
   "id": "bdb49d64-2723-4fc8-9039-9eac30f1112e",
   "metadata": {},
   "outputs": [],
   "source": [
    "class parent:\n",
    "    def __init__(self,a,b,c):\n",
    "        self.a = a\n",
    "        self._b = b #protected\n",
    "        self.__c = c #private\n",
    "        \n",
    "class child(parent):\n",
    "    def display(self):\n",
    "        print(\"This is Child Class and I am displaing Function\")"
   ]
  },
  {
   "cell_type": "code",
   "execution_count": 45,
   "id": "4ffb2add-9c18-4a61-b826-d0a8b4d1d981",
   "metadata": {},
   "outputs": [],
   "source": [
    "c3 = child(1,2,3)"
   ]
  },
  {
   "cell_type": "code",
   "execution_count": 46,
   "id": "2ee46231-b206-42c5-bfc5-aa8b47ef3737",
   "metadata": {},
   "outputs": [
    {
     "data": {
      "text/plain": [
       "2"
      ]
     },
     "execution_count": 46,
     "metadata": {},
     "output_type": "execute_result"
    }
   ],
   "source": [
    "c3._b #parent ==> child class"
   ]
  },
  {
   "cell_type": "code",
   "execution_count": 48,
   "id": "1edfd943-83bd-45ba-929c-149b2f4cfcf0",
   "metadata": {},
   "outputs": [
    {
     "data": {
      "text/plain": [
       "3"
      ]
     },
     "execution_count": 48,
     "metadata": {},
     "output_type": "execute_result"
    }
   ],
   "source": [
    "c3._parent__c"
   ]
  },
  {
   "cell_type": "code",
   "execution_count": 49,
   "id": "0fcdb7bc-17a0-41f3-a337-0402b96806ce",
   "metadata": {},
   "outputs": [],
   "source": [
    "c3.a = 100"
   ]
  },
  {
   "cell_type": "code",
   "execution_count": 50,
   "id": "5f13feef-32a2-4c07-af92-4d437167d682",
   "metadata": {},
   "outputs": [
    {
     "data": {
      "text/plain": [
       "100"
      ]
     },
     "execution_count": 50,
     "metadata": {},
     "output_type": "execute_result"
    }
   ],
   "source": [
    "c3.a"
   ]
  },
  {
   "cell_type": "code",
   "execution_count": 51,
   "id": "e9f13a05-05a7-4fee-908d-29bf7261230a",
   "metadata": {},
   "outputs": [],
   "source": [
    "c3._b = 200"
   ]
  },
  {
   "cell_type": "code",
   "execution_count": 53,
   "id": "2b27bdbb-f69c-4870-aa6a-9a718058ae86",
   "metadata": {},
   "outputs": [
    {
     "data": {
      "text/plain": [
       "200"
      ]
     },
     "execution_count": 53,
     "metadata": {},
     "output_type": "execute_result"
    }
   ],
   "source": [
    "c3._b"
   ]
  },
  {
   "cell_type": "code",
   "execution_count": 54,
   "id": "02053d67-103b-4a0e-9d9c-13296e7be87e",
   "metadata": {},
   "outputs": [],
   "source": [
    "c3._parent__c = 300"
   ]
  },
  {
   "cell_type": "code",
   "execution_count": 56,
   "id": "cee932ee-6151-4022-8273-39342a08deac",
   "metadata": {},
   "outputs": [
    {
     "data": {
      "text/plain": [
       "300"
      ]
     },
     "execution_count": 56,
     "metadata": {},
     "output_type": "execute_result"
    }
   ],
   "source": [
    "c3._parent__c"
   ]
  },
  {
   "cell_type": "code",
   "execution_count": 60,
   "id": "77210ab8-859d-4a42-9215-fd293a95f278",
   "metadata": {},
   "outputs": [],
   "source": [
    "class parent:                    # contain only parent class property\n",
    "    def __init__(self,a,b,c):\n",
    "        self.a = a\n",
    "        self._b = b #protected\n",
    "        self.__c = c #private\n",
    "        \n",
    "class child(parent):             # contain own prop + parent class property --> child property \n",
    "    def display(self):\n",
    "        print(\"This is Child Class and I am displaing Function\")\n",
    "\n",
    "class child2(child):      # contain own prop + child property + parent property --> child property\n",
    "    def display2(self):\n",
    "        print(\"This is child2 class and i am display function\")"
   ]
  },
  {
   "cell_type": "code",
   "execution_count": 61,
   "id": "ac7b2807-fd64-4c06-a643-ab41389fd169",
   "metadata": {},
   "outputs": [],
   "source": [
    "c4 = child2(1,2,3)"
   ]
  },
  {
   "cell_type": "code",
   "execution_count": 62,
   "id": "8825a350-23e8-4a4a-b0d1-022b6a3d2c41",
   "metadata": {},
   "outputs": [
    {
     "name": "stdout",
     "output_type": "stream",
     "text": [
      "This is Child Class and I am displaing Function\n"
     ]
    }
   ],
   "source": [
    "c4.display()"
   ]
  },
  {
   "cell_type": "code",
   "execution_count": 63,
   "id": "23ab8373-3d82-4258-89e3-5094390ee82d",
   "metadata": {},
   "outputs": [],
   "source": [
    "c5 = child(1,2,3)"
   ]
  },
  {
   "cell_type": "code",
   "execution_count": 64,
   "id": "b8e9ce28-814b-45b1-a597-81601e87e41e",
   "metadata": {},
   "outputs": [
    {
     "name": "stdout",
     "output_type": "stream",
     "text": [
      "This is Child Class and I am displaing Function\n"
     ]
    }
   ],
   "source": [
    "c5.display()"
   ]
  },
  {
   "cell_type": "code",
   "execution_count": null,
   "id": "86c90346-65c8-4677-980f-77df7c579b16",
   "metadata": {},
   "outputs": [],
   "source": []
  }
 ],
 "metadata": {
  "kernelspec": {
   "display_name": "Python 3 (ipykernel)",
   "language": "python",
   "name": "python3"
  },
  "language_info": {
   "codemirror_mode": {
    "name": "ipython",
    "version": 3
   },
   "file_extension": ".py",
   "mimetype": "text/x-python",
   "name": "python",
   "nbconvert_exporter": "python",
   "pygments_lexer": "ipython3",
   "version": "3.11.7"
  }
 },
 "nbformat": 4,
 "nbformat_minor": 5
}
