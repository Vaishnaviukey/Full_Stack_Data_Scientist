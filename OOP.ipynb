{
 "cells": [
  {
   "cell_type": "code",
   "execution_count": 4,
   "id": "7be5e7a9-35aa-4f73-af03-9be3a298490e",
   "metadata": {},
   "outputs": [],
   "source": [
    "class abc:\n",
    "    def test1(self):\n",
    "        return \"test1\""
   ]
  },
  {
   "cell_type": "code",
   "execution_count": 5,
   "id": "907543b4-4858-4327-abcb-4bfb976a6924",
   "metadata": {},
   "outputs": [],
   "source": [
    "x = abc()"
   ]
  },
  {
   "cell_type": "code",
   "execution_count": 6,
   "id": "41d35d4d-1587-4877-b72e-83bf40342c5f",
   "metadata": {},
   "outputs": [
    {
     "data": {
      "text/plain": [
       "'test1'"
      ]
     },
     "execution_count": 6,
     "metadata": {},
     "output_type": "execute_result"
    }
   ],
   "source": [
    "x.test1()"
   ]
  },
  {
   "cell_type": "code",
   "execution_count": null,
   "id": "648da2e2-2517-4756-be7f-6f48ec1f6fca",
   "metadata": {},
   "outputs": [],
   "source": []
  },
  {
   "cell_type": "code",
   "execution_count": null,
   "id": "704a8368-8cc7-4e58-b2b2-a42b33ec1486",
   "metadata": {},
   "outputs": [],
   "source": []
  },
  {
   "cell_type": "code",
   "execution_count": 7,
   "id": "1cc15f5b-27ee-4baf-975e-993e5940a7b2",
   "metadata": {},
   "outputs": [],
   "source": [
    "class car():\n",
    "    def __init__(data,color,body,engin):\n",
    "        data.color = color\n",
    "        data.body = body\n",
    "        data.engin = engin"
   ]
  },
  {
   "cell_type": "code",
   "execution_count": 8,
   "id": "5d250361-e3f7-458d-9bd3-854ae2ac5ac2",
   "metadata": {},
   "outputs": [],
   "source": [
    "Nexon = car(\"Red\",\"SUV\",1500)"
   ]
  },
  {
   "cell_type": "code",
   "execution_count": 9,
   "id": "d7acf245-6d56-40e5-96f5-8b423b73831a",
   "metadata": {},
   "outputs": [
    {
     "data": {
      "text/plain": [
       "'SUV'"
      ]
     },
     "execution_count": 9,
     "metadata": {},
     "output_type": "execute_result"
    }
   ],
   "source": [
    "Nexon.body"
   ]
  },
  {
   "cell_type": "code",
   "execution_count": 10,
   "id": "5c176886-74ab-4ec1-bcc6-4b9154ed5bbd",
   "metadata": {},
   "outputs": [
    {
     "data": {
      "text/plain": [
       "'Red'"
      ]
     },
     "execution_count": 10,
     "metadata": {},
     "output_type": "execute_result"
    }
   ],
   "source": [
    "Nexon.color"
   ]
  },
  {
   "cell_type": "code",
   "execution_count": 11,
   "id": "5f1f99ea-ddb9-4d1f-9833-e30b2c0e61dd",
   "metadata": {},
   "outputs": [
    {
     "data": {
      "text/plain": [
       "1500"
      ]
     },
     "execution_count": 11,
     "metadata": {},
     "output_type": "execute_result"
    }
   ],
   "source": [
    "Nexon.engin"
   ]
  },
  {
   "cell_type": "code",
   "execution_count": 1,
   "id": "b2d432eb-47ea-4be1-93e2-fd2ff00d0b51",
   "metadata": {},
   "outputs": [],
   "source": [
    "class car:\n",
    "    def __init__ (self,body_type, COLOR, Engine):\n",
    "        self.body_type = body_type\n",
    "        self.COLOR = COLOR\n",
    "        self.Engine = Engine\n",
    "    def Wiper(self):\n",
    "        print(\"I am opening my wiper\")"
   ]
  },
  {
   "cell_type": "code",
   "execution_count": 2,
   "id": "251197bd-e3bd-4ba5-81fe-9adf2e926b19",
   "metadata": {},
   "outputs": [],
   "source": [
    "Fortuner = car(\"SUV\", \"White\", 2000)"
   ]
  },
  {
   "cell_type": "code",
   "execution_count": 3,
   "id": "a034025f-a4af-4271-b485-a61276238831",
   "metadata": {},
   "outputs": [
    {
     "name": "stdout",
     "output_type": "stream",
     "text": [
      "I am opening my wiper\n"
     ]
    }
   ],
   "source": [
    "Fortuner.Wiper()"
   ]
  },
  {
   "cell_type": "code",
   "execution_count": 4,
   "id": "5881411a-37a8-43a5-b3d8-bcc3613064a8",
   "metadata": {},
   "outputs": [],
   "source": [
    "Fortuner.Engine = 5000"
   ]
  },
  {
   "cell_type": "code",
   "execution_count": 5,
   "id": "b8dcd334-5941-4c5e-a830-cafb022b21bf",
   "metadata": {},
   "outputs": [
    {
     "data": {
      "text/plain": [
       "5000"
      ]
     },
     "execution_count": 5,
     "metadata": {},
     "output_type": "execute_result"
    }
   ],
   "source": [
    "Fortuner.Engine"
   ]
  },
  {
   "cell_type": "code",
   "execution_count": 8,
   "id": "357e4ed5-b6e5-440a-9031-3fe75eef2909",
   "metadata": {},
   "outputs": [],
   "source": [
    "class SUV_CAR:\n",
    "    def __init__ (self,body_type, COLOR, Engine): #Cunstroctor #way to pass data to class\n",
    "        self.body_type = body_type # public\n",
    "        self._COLOR = COLOR #protected\n",
    "        self.__Engine = Engine #private\n",
    "    def Wiper(self):\n",
    "        print(\"I am opening my wiper\")"
   ]
  },
  {
   "cell_type": "code",
   "execution_count": 9,
   "id": "f450319b-14f6-470a-8a03-a5e6186516f3",
   "metadata": {},
   "outputs": [],
   "source": [
    "Nexon = SUV_CAR(\"SUV\",\"Red\",2400)"
   ]
  },
  {
   "cell_type": "code",
   "execution_count": 10,
   "id": "3ee194a7-1d54-4ba7-9b92-47986cb49ff6",
   "metadata": {},
   "outputs": [
    {
     "data": {
      "text/plain": [
       "'SUV'"
      ]
     },
     "execution_count": 10,
     "metadata": {},
     "output_type": "execute_result"
    }
   ],
   "source": [
    "Nexon.body_type"
   ]
  },
  {
   "cell_type": "code",
   "execution_count": 11,
   "id": "9494d38a-3823-451c-b976-91b97f270edc",
   "metadata": {},
   "outputs": [
    {
     "data": {
      "text/plain": [
       "'Red'"
      ]
     },
     "execution_count": 11,
     "metadata": {},
     "output_type": "execute_result"
    }
   ],
   "source": [
    "Nexon._COLOR"
   ]
  },
  {
   "cell_type": "code",
   "execution_count": 12,
   "id": "0e47de51-ebf6-4a3a-b647-6f27453d9a76",
   "metadata": {},
   "outputs": [
    {
     "data": {
      "text/plain": [
       "2400"
      ]
     },
     "execution_count": 12,
     "metadata": {},
     "output_type": "execute_result"
    }
   ],
   "source": [
    "Nexon._SUV_CAR__Engine"
   ]
  },
  {
   "cell_type": "code",
   "execution_count": 13,
   "id": "39debeb9-5720-4db1-bc7c-fc9c73394f96",
   "metadata": {},
   "outputs": [],
   "source": [
    "Nexon._SUV_CAR__Engine = 3000"
   ]
  },
  {
   "cell_type": "code",
   "execution_count": 14,
   "id": "1d62cc69-bf28-4ba7-96f1-f85944ae753c",
   "metadata": {},
   "outputs": [
    {
     "data": {
      "text/plain": [
       "3000"
      ]
     },
     "execution_count": 14,
     "metadata": {},
     "output_type": "execute_result"
    }
   ],
   "source": [
    "Nexon._SUV_CAR__Engine"
   ]
  },
  {
   "cell_type": "code",
   "execution_count": 15,
   "id": "019c48ef-3a81-49b7-8cf4-f72bf64cb9ae",
   "metadata": {},
   "outputs": [],
   "source": [
    "Nexon.COLOR = \"white\""
   ]
  },
  {
   "cell_type": "code",
   "execution_count": 16,
   "id": "4b2915f7-95f1-4ecf-bd21-91d20cc57c47",
   "metadata": {},
   "outputs": [
    {
     "data": {
      "text/plain": [
       "'white'"
      ]
     },
     "execution_count": 16,
     "metadata": {},
     "output_type": "execute_result"
    }
   ],
   "source": [
    "Nexon.COLOR"
   ]
  },
  {
   "cell_type": "code",
   "execution_count": null,
   "id": "bb01fed5-1d83-40ad-bd83-5adfe0790d0d",
   "metadata": {},
   "outputs": [],
   "source": []
  }
 ],
 "metadata": {
  "kernelspec": {
   "display_name": "Python 3 (ipykernel)",
   "language": "python",
   "name": "python3"
  },
  "language_info": {
   "codemirror_mode": {
    "name": "ipython",
    "version": 3
   },
   "file_extension": ".py",
   "mimetype": "text/x-python",
   "name": "python",
   "nbconvert_exporter": "python",
   "pygments_lexer": "ipython3",
   "version": "3.11.7"
  }
 },
 "nbformat": 4,
 "nbformat_minor": 5
}
