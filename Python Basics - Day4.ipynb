{
 "cells": [
  {
   "cell_type": "markdown",
   "id": "62f9352d-daa8-425c-92d2-f625c94caf84",
   "metadata": {},
   "source": [
    "# If-Else"
   ]
  },
  {
   "cell_type": "code",
   "execution_count": 10,
   "id": "aecee440-aca3-4d7b-834f-31c6e058fe49",
   "metadata": {},
   "outputs": [
    {
     "name": "stdin",
     "output_type": "stream",
     "text": [
      "Enter marks:  50\n"
     ]
    },
    {
     "name": "stdout",
     "output_type": "stream",
     "text": [
      "range in between 50-90\n"
     ]
    }
   ],
   "source": [
    "marks = int(input(\"Enter marks: \"))\n",
    "if marks >= 90 and marks <= 100:\n",
    "    print(\"range in between 90-100.\")\n",
    "elif marks >= 50 and marks < 90:\n",
    "    print(\"range in between 50-90\")\n",
    "elif marks >= 35 and marks < 50:\n",
    "    print(\"range in between 35-50\")\n",
    "elif marks >= 0 and marks < 35:\n",
    "    print(\"Fail\")\n",
    "else:\n",
    "    print(\"enter proper marks\")\n"
   ]
  },
  {
   "cell_type": "code",
   "execution_count": 4,
   "id": "99deaa50-6913-451a-9b0d-5ccccce0f245",
   "metadata": {},
   "outputs": [
    {
     "data": {
      "text/plain": [
       "True"
      ]
     },
     "execution_count": 4,
     "metadata": {},
     "output_type": "execute_result"
    }
   ],
   "source": [
    "95 > 90 and 65 < 100"
   ]
  },
  {
   "cell_type": "markdown",
   "id": "7b34a360-8c9d-423d-8916-eac3510100bc",
   "metadata": {},
   "source": [
    "Coupne code "
   ]
  },
  {
   "cell_type": "code",
   "execution_count": null,
   "id": "5949a8eb-d83a-4207-b6fa-1b9212ab22e3",
   "metadata": {},
   "outputs": [],
   "source": [
    "coupne_code = input()\n",
    "if coupne_code == \"NEW100\":\n",
    "    print(\"You get discount of 100$\")\n",
    "elif coupne_code == \"NEW50\":\n",
    "    print(\"You get discount of 100$\")\n",
    "else:\n",
    "    print(\"Please enter proper coupne code\")"
   ]
  },
  {
   "cell_type": "markdown",
   "id": "84d0cf71-9aac-434b-a1b8-3c51f5a92523",
   "metadata": {},
   "source": [
    "# Range Function"
   ]
  },
  {
   "cell_type": "code",
   "execution_count": 12,
   "id": "6269e9cd-40b8-41d4-8056-0419b1c2ad9a",
   "metadata": {},
   "outputs": [
    {
     "data": {
      "text/plain": [
       "range(1, 11)"
      ]
     },
     "execution_count": 12,
     "metadata": {},
     "output_type": "execute_result"
    }
   ],
   "source": [
    "range(1,11)"
   ]
  },
  {
   "cell_type": "code",
   "execution_count": 13,
   "id": "900c11e8-d557-43d7-a1c0-ed3f45761667",
   "metadata": {},
   "outputs": [
    {
     "data": {
      "text/plain": [
       "[1, 2, 3, 4, 5, 6, 7, 8, 9, 10]"
      ]
     },
     "execution_count": 13,
     "metadata": {},
     "output_type": "execute_result"
    }
   ],
   "source": [
    "list(range(1,11))"
   ]
  },
  {
   "cell_type": "code",
   "execution_count": 16,
   "id": "4c385634-1123-4c94-b949-c1573b96fca7",
   "metadata": {},
   "outputs": [],
   "source": [
    "l = list(range(1,10,2))"
   ]
  },
  {
   "cell_type": "markdown",
   "id": "071e276f-08f8-46ee-b9c7-bbc5e7188863",
   "metadata": {},
   "source": [
    "# For loop"
   ]
  },
  {
   "cell_type": "code",
   "execution_count": 17,
   "id": "26e1b202-3d08-467a-bbb4-325b2221e3a6",
   "metadata": {},
   "outputs": [
    {
     "name": "stdout",
     "output_type": "stream",
     "text": [
      "1\n",
      "3\n",
      "5\n",
      "7\n",
      "9\n"
     ]
    }
   ],
   "source": [
    "for num in l:\n",
    "    print(num)"
   ]
  },
  {
   "cell_type": "code",
   "execution_count": 18,
   "id": "10ac769c-3a12-4187-a8bc-4a7efe3dd30b",
   "metadata": {},
   "outputs": [
    {
     "name": "stdout",
     "output_type": "stream",
     "text": [
      "101\n",
      "103\n",
      "105\n",
      "107\n",
      "109\n"
     ]
    }
   ],
   "source": [
    "for num in l:\n",
    "    print(num + 100)"
   ]
  },
  {
   "cell_type": "code",
   "execution_count": 19,
   "id": "7bc88461-0bee-494b-8aee-5c4b54352852",
   "metadata": {},
   "outputs": [
    {
     "name": "stdout",
     "output_type": "stream",
     "text": [
      "0\n",
      "1\n",
      "2\n",
      "3\n",
      "4\n"
     ]
    }
   ],
   "source": [
    "for i in range(5):\n",
    "    print(i)"
   ]
  },
  {
   "cell_type": "code",
   "execution_count": 20,
   "id": "9e6bf63c-8899-45a8-a2cc-47a9c52310c9",
   "metadata": {},
   "outputs": [
    {
     "name": "stdout",
     "output_type": "stream",
     "text": [
      "N\n",
      "e\n",
      "w\n",
      "Y\n",
      "e\n",
      "a\n",
      "r\n"
     ]
    }
   ],
   "source": [
    "for i in \"NewYear\":\n",
    "    print(i)"
   ]
  },
  {
   "cell_type": "code",
   "execution_count": 22,
   "id": "97b2c51b-be20-4273-a0bb-7ed028c676ee",
   "metadata": {},
   "outputs": [
    {
     "name": "stdout",
     "output_type": "stream",
     "text": [
      "Data\n",
      "Data\n",
      "Data\n",
      "Data\n",
      "Data\n",
      "Data\n",
      "Data\n"
     ]
    }
   ],
   "source": [
    "for i in \"NewYear\":\n",
    "    print(\"Data\")"
   ]
  },
  {
   "cell_type": "code",
   "execution_count": 23,
   "id": "bbed870c-2f33-423b-b4a5-972b47a0198d",
   "metadata": {},
   "outputs": [],
   "source": [
    "l = [10,20,30.333,True,10+7j,\"New\"]"
   ]
  },
  {
   "cell_type": "code",
   "execution_count": 24,
   "id": "dae9615d-4261-4eab-b613-c625d91193a4",
   "metadata": {},
   "outputs": [
    {
     "name": "stdout",
     "output_type": "stream",
     "text": [
      "10\n",
      "20\n",
      "30.333\n",
      "True\n",
      "(10+7j)\n",
      "New\n"
     ]
    }
   ],
   "source": [
    "for i in l:\n",
    "    print(i)"
   ]
  },
  {
   "cell_type": "code",
   "execution_count": 27,
   "id": "f6cb8758-52a0-4eb3-ba36-e2ff05f65935",
   "metadata": {},
   "outputs": [
    {
     "name": "stdout",
     "output_type": "stream",
     "text": [
      "<class 'int'>\n",
      "<class 'int'>\n",
      "<class 'float'>\n",
      "<class 'bool'>\n",
      "<class 'complex'>\n",
      "<class 'str'>\n"
     ]
    }
   ],
   "source": [
    "for i in l:\n",
    "    print(type(i))"
   ]
  },
  {
   "cell_type": "code",
   "execution_count": 29,
   "id": "6c5a5575-12f5-4473-aca2-4ef2fe338408",
   "metadata": {},
   "outputs": [
    {
     "name": "stdout",
     "output_type": "stream",
     "text": [
      "10      <class 'int'>\n",
      "20      <class 'int'>\n",
      "30.333      <class 'float'>\n",
      "True      <class 'bool'>\n",
      "(10+7j)      <class 'complex'>\n",
      "New      <class 'str'>\n"
     ]
    }
   ],
   "source": [
    "for i in l:\n",
    "    print(i ,\"    \",type(i))"
   ]
  },
  {
   "cell_type": "code",
   "execution_count": 30,
   "id": "0a7c52c1-46ff-4e22-8aa4-61b43ed29fc5",
   "metadata": {},
   "outputs": [
    {
     "name": "stdout",
     "output_type": "stream",
     "text": [
      "30.333\n"
     ]
    }
   ],
   "source": [
    "for i in l:\n",
    "    if type(i) == float:\n",
    "        print(i)"
   ]
  },
  {
   "cell_type": "code",
   "execution_count": 31,
   "id": "d6b8a479-ab7c-4f8b-96e0-3b471fa30470",
   "metadata": {},
   "outputs": [],
   "source": [
    "k = [(10,11,12),[\"Data\",1,2,3,4],{1,2,3},{\"a\":100 , \"b\":200}]"
   ]
  },
  {
   "cell_type": "code",
   "execution_count": 33,
   "id": "8f25ad35-85cc-4a86-b3f9-5ff44e5760a9",
   "metadata": {},
   "outputs": [
    {
     "name": "stdout",
     "output_type": "stream",
     "text": [
      "(10, 11, 12)\n",
      "<class 'tuple'>\n",
      "['Data', 1, 2, 3, 4]\n",
      "<class 'list'>\n",
      "{1, 2, 3}\n",
      "<class 'set'>\n",
      "{'a': 100, 'b': 200}\n",
      "<class 'dict'>\n"
     ]
    }
   ],
   "source": [
    "for i in k:\n",
    "    print(i)\n",
    "    print(type(i))"
   ]
  },
  {
   "cell_type": "code",
   "execution_count": 36,
   "id": "a014d37a-d90b-4c31-aefa-ea83ed648722",
   "metadata": {},
   "outputs": [
    {
     "name": "stdout",
     "output_type": "stream",
     "text": [
      "['Data', 1, 2, 3, 4]\n"
     ]
    }
   ],
   "source": [
    "for i in k:\n",
    "    if (type(i)) == list:\n",
    "        print(i)"
   ]
  },
  {
   "cell_type": "code",
   "execution_count": 37,
   "id": "2e04f6b4-0842-41d5-9cdc-1003faa52c16",
   "metadata": {},
   "outputs": [
    {
     "name": "stdout",
     "output_type": "stream",
     "text": [
      "Data\n",
      "1\n",
      "2\n",
      "3\n",
      "4\n"
     ]
    }
   ],
   "source": [
    "for i in k:\n",
    "    if type(i) == list:\n",
    "        for num in i:\n",
    "            print(num)"
   ]
  }
 ],
 "metadata": {
  "kernelspec": {
   "display_name": "Python 3 (ipykernel)",
   "language": "python",
   "name": "python3"
  },
  "language_info": {
   "codemirror_mode": {
    "name": "ipython",
    "version": 3
   },
   "file_extension": ".py",
   "mimetype": "text/x-python",
   "name": "python",
   "nbconvert_exporter": "python",
   "pygments_lexer": "ipython3",
   "version": "3.11.7"
  }
 },
 "nbformat": 4,
 "nbformat_minor": 5
}
